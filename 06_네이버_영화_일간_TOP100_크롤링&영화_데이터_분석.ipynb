{
  "nbformat": 4,
  "nbformat_minor": 0,
  "metadata": {
    "colab": {
      "name": "06_네이버 영화 일간 TOP100 크롤링&영화 데이터 분석.ipynb",
      "provenance": [],
      "authorship_tag": "ABX9TyNhSoBnlAHbIl1kbZgkBkM4",
      "include_colab_link": true
    },
    "kernelspec": {
      "name": "python3",
      "display_name": "Python 3"
    },
    "language_info": {
      "name": "python"
    }
  },
  "cells": [
    {
      "cell_type": "markdown",
      "metadata": {
        "id": "view-in-github",
        "colab_type": "text"
      },
      "source": [
        "<a href=\"https://colab.research.google.com/github/yeijSong/HandsOnDataAnalysis/blob/main/06_%EB%84%A4%EC%9D%B4%EB%B2%84_%EC%98%81%ED%99%94_%EC%9D%BC%EA%B0%84_TOP100_%ED%81%AC%EB%A1%A4%EB%A7%81%26%EC%98%81%ED%99%94_%EB%8D%B0%EC%9D%B4%ED%84%B0_%EB%B6%84%EC%84%9D.ipynb\" target=\"_parent\"><img src=\"https://colab.research.google.com/assets/colab-badge.svg\" alt=\"Open In Colab\"/></a>"
      ]
    },
    {
      "cell_type": "markdown",
      "metadata": {
        "id": "OVcYehocnh5Y"
      },
      "source": [
        "### 네이버 영화 일간 TOP 100 데이터 크롤링하기"
      ]
    },
    {
      "cell_type": "markdown",
      "metadata": {
        "id": "0nMy1_I1npB2"
      },
      "source": [
        "라이브러리 설치"
      ]
    },
    {
      "cell_type": "code",
      "metadata": {
        "colab": {
          "base_uri": "https://localhost:8080/"
        },
        "id": "CddGgXxGijE6",
        "outputId": "8aad25f7-ee83-4397-abbe-0504916e6255"
      },
      "source": [
        "# 링크 수집을 위한 라이브러리 설치\n",
        "!pip install selenium"
      ],
      "execution_count": 1,
      "outputs": [
        {
          "output_type": "stream",
          "text": [
            "Collecting selenium\n",
            "\u001b[?25l  Downloading https://files.pythonhosted.org/packages/80/d6/4294f0b4bce4de0abf13e17190289f9d0613b0a44e5dd6a7f5ca98459853/selenium-3.141.0-py2.py3-none-any.whl (904kB)\n",
            "\r\u001b[K     |▍                               | 10kB 11.2MB/s eta 0:00:01\r\u001b[K     |▊                               | 20kB 12.0MB/s eta 0:00:01\r\u001b[K     |█                               | 30kB 13.2MB/s eta 0:00:01\r\u001b[K     |█▌                              | 40kB 10.2MB/s eta 0:00:01\r\u001b[K     |█▉                              | 51kB 5.5MB/s eta 0:00:01\r\u001b[K     |██▏                             | 61kB 5.3MB/s eta 0:00:01\r\u001b[K     |██▌                             | 71kB 5.4MB/s eta 0:00:01\r\u001b[K     |███                             | 81kB 6.0MB/s eta 0:00:01\r\u001b[K     |███▎                            | 92kB 6.3MB/s eta 0:00:01\r\u001b[K     |███▋                            | 102kB 5.1MB/s eta 0:00:01\r\u001b[K     |████                            | 112kB 5.1MB/s eta 0:00:01\r\u001b[K     |████▍                           | 122kB 5.1MB/s eta 0:00:01\r\u001b[K     |████▊                           | 133kB 5.1MB/s eta 0:00:01\r\u001b[K     |█████                           | 143kB 5.1MB/s eta 0:00:01\r\u001b[K     |█████▍                          | 153kB 5.1MB/s eta 0:00:01\r\u001b[K     |█████▉                          | 163kB 5.1MB/s eta 0:00:01\r\u001b[K     |██████▏                         | 174kB 5.1MB/s eta 0:00:01\r\u001b[K     |██████▌                         | 184kB 5.1MB/s eta 0:00:01\r\u001b[K     |██████▉                         | 194kB 5.1MB/s eta 0:00:01\r\u001b[K     |███████▎                        | 204kB 5.1MB/s eta 0:00:01\r\u001b[K     |███████▋                        | 215kB 5.1MB/s eta 0:00:01\r\u001b[K     |████████                        | 225kB 5.1MB/s eta 0:00:01\r\u001b[K     |████████▎                       | 235kB 5.1MB/s eta 0:00:01\r\u001b[K     |████████▊                       | 245kB 5.1MB/s eta 0:00:01\r\u001b[K     |█████████                       | 256kB 5.1MB/s eta 0:00:01\r\u001b[K     |█████████▍                      | 266kB 5.1MB/s eta 0:00:01\r\u001b[K     |█████████▉                      | 276kB 5.1MB/s eta 0:00:01\r\u001b[K     |██████████▏                     | 286kB 5.1MB/s eta 0:00:01\r\u001b[K     |██████████▌                     | 296kB 5.1MB/s eta 0:00:01\r\u001b[K     |██████████▉                     | 307kB 5.1MB/s eta 0:00:01\r\u001b[K     |███████████▎                    | 317kB 5.1MB/s eta 0:00:01\r\u001b[K     |███████████▋                    | 327kB 5.1MB/s eta 0:00:01\r\u001b[K     |████████████                    | 337kB 5.1MB/s eta 0:00:01\r\u001b[K     |████████████▎                   | 348kB 5.1MB/s eta 0:00:01\r\u001b[K     |████████████▊                   | 358kB 5.1MB/s eta 0:00:01\r\u001b[K     |█████████████                   | 368kB 5.1MB/s eta 0:00:01\r\u001b[K     |█████████████▍                  | 378kB 5.1MB/s eta 0:00:01\r\u001b[K     |█████████████▊                  | 389kB 5.1MB/s eta 0:00:01\r\u001b[K     |██████████████▏                 | 399kB 5.1MB/s eta 0:00:01\r\u001b[K     |██████████████▌                 | 409kB 5.1MB/s eta 0:00:01\r\u001b[K     |██████████████▉                 | 419kB 5.1MB/s eta 0:00:01\r\u001b[K     |███████████████▏                | 430kB 5.1MB/s eta 0:00:01\r\u001b[K     |███████████████▋                | 440kB 5.1MB/s eta 0:00:01\r\u001b[K     |████████████████                | 450kB 5.1MB/s eta 0:00:01\r\u001b[K     |████████████████▎               | 460kB 5.1MB/s eta 0:00:01\r\u001b[K     |████████████████▋               | 471kB 5.1MB/s eta 0:00:01\r\u001b[K     |█████████████████               | 481kB 5.1MB/s eta 0:00:01\r\u001b[K     |█████████████████▍              | 491kB 5.1MB/s eta 0:00:01\r\u001b[K     |█████████████████▊              | 501kB 5.1MB/s eta 0:00:01\r\u001b[K     |██████████████████▏             | 512kB 5.1MB/s eta 0:00:01\r\u001b[K     |██████████████████▌             | 522kB 5.1MB/s eta 0:00:01\r\u001b[K     |██████████████████▉             | 532kB 5.1MB/s eta 0:00:01\r\u001b[K     |███████████████████▏            | 542kB 5.1MB/s eta 0:00:01\r\u001b[K     |███████████████████▋            | 552kB 5.1MB/s eta 0:00:01\r\u001b[K     |████████████████████            | 563kB 5.1MB/s eta 0:00:01\r\u001b[K     |████████████████████▎           | 573kB 5.1MB/s eta 0:00:01\r\u001b[K     |████████████████████▋           | 583kB 5.1MB/s eta 0:00:01\r\u001b[K     |█████████████████████           | 593kB 5.1MB/s eta 0:00:01\r\u001b[K     |█████████████████████▍          | 604kB 5.1MB/s eta 0:00:01\r\u001b[K     |█████████████████████▊          | 614kB 5.1MB/s eta 0:00:01\r\u001b[K     |██████████████████████          | 624kB 5.1MB/s eta 0:00:01\r\u001b[K     |██████████████████████▌         | 634kB 5.1MB/s eta 0:00:01\r\u001b[K     |██████████████████████▉         | 645kB 5.1MB/s eta 0:00:01\r\u001b[K     |███████████████████████▏        | 655kB 5.1MB/s eta 0:00:01\r\u001b[K     |███████████████████████▌        | 665kB 5.1MB/s eta 0:00:01\r\u001b[K     |████████████████████████        | 675kB 5.1MB/s eta 0:00:01\r\u001b[K     |████████████████████████▎       | 686kB 5.1MB/s eta 0:00:01\r\u001b[K     |████████████████████████▋       | 696kB 5.1MB/s eta 0:00:01\r\u001b[K     |█████████████████████████       | 706kB 5.1MB/s eta 0:00:01\r\u001b[K     |█████████████████████████▍      | 716kB 5.1MB/s eta 0:00:01\r\u001b[K     |█████████████████████████▊      | 727kB 5.1MB/s eta 0:00:01\r\u001b[K     |██████████████████████████      | 737kB 5.1MB/s eta 0:00:01\r\u001b[K     |██████████████████████████▍     | 747kB 5.1MB/s eta 0:00:01\r\u001b[K     |██████████████████████████▉     | 757kB 5.1MB/s eta 0:00:01\r\u001b[K     |███████████████████████████▏    | 768kB 5.1MB/s eta 0:00:01\r\u001b[K     |███████████████████████████▌    | 778kB 5.1MB/s eta 0:00:01\r\u001b[K     |████████████████████████████    | 788kB 5.1MB/s eta 0:00:01\r\u001b[K     |████████████████████████████▎   | 798kB 5.1MB/s eta 0:00:01\r\u001b[K     |████████████████████████████▋   | 808kB 5.1MB/s eta 0:00:01\r\u001b[K     |█████████████████████████████   | 819kB 5.1MB/s eta 0:00:01\r\u001b[K     |█████████████████████████████▍  | 829kB 5.1MB/s eta 0:00:01\r\u001b[K     |█████████████████████████████▊  | 839kB 5.1MB/s eta 0:00:01\r\u001b[K     |██████████████████████████████  | 849kB 5.1MB/s eta 0:00:01\r\u001b[K     |██████████████████████████████▍ | 860kB 5.1MB/s eta 0:00:01\r\u001b[K     |██████████████████████████████▉ | 870kB 5.1MB/s eta 0:00:01\r\u001b[K     |███████████████████████████████▏| 880kB 5.1MB/s eta 0:00:01\r\u001b[K     |███████████████████████████████▌| 890kB 5.1MB/s eta 0:00:01\r\u001b[K     |███████████████████████████████▉| 901kB 5.1MB/s eta 0:00:01\r\u001b[K     |████████████████████████████████| 911kB 5.1MB/s \n",
            "\u001b[?25hRequirement already satisfied: urllib3 in /usr/local/lib/python3.7/dist-packages (from selenium) (1.24.3)\n",
            "Installing collected packages: selenium\n",
            "Successfully installed selenium-3.141.0\n"
          ],
          "name": "stdout"
        }
      ]
    },
    {
      "cell_type": "markdown",
      "metadata": {
        "id": "RiwjE2fyn1VH"
      },
      "source": [
        "라이브러리 임포트"
      ]
    },
    {
      "cell_type": "code",
      "metadata": {
        "id": "GAfPHzi6nxVt"
      },
      "source": [
        "from bs4 import BeautifulSoup\n",
        "import requests\n",
        "from selenium import webdriver as wd\n",
        "from selenium.webdriver.common.keys import Keys\n",
        "import time\n",
        "import re\n",
        "import pandas as pd "
      ],
      "execution_count": 2,
      "outputs": []
    },
    {
      "cell_type": "code",
      "metadata": {
        "colab": {
          "base_uri": "https://localhost:8080/"
        },
        "id": "g3kiOHptoNCO",
        "outputId": "80ec86b2-7cba-48d9-baee-2aa5c007a3b3"
      },
      "source": [
        "# install chromium, its driver, and selenium\n",
        "!apt-get update\n",
        "!apt install chromium-chromedriver\n",
        "!cp /usr/lib/chromium-browser/chromedriver /usr/bin\n",
        "!pip install selenium\n",
        "# set options to be headless, ..\n",
        "from selenium import webdriver\n",
        "options = webdriver.ChromeOptions()\n",
        "options.add_argument('--headless')\n",
        "options.add_argument('--no-sandbox')\n",
        "options.add_argument('--disable-dev-shm-usage')\n",
        "\n",
        "driver = webdriver.Chrome('chromedriver',options=options)\n"
      ],
      "execution_count": 3,
      "outputs": [
        {
          "output_type": "stream",
          "text": [
            "\r0% [Working]\r            \rGet:1 http://security.ubuntu.com/ubuntu bionic-security InRelease [88.7 kB]\n",
            "Hit:2 https://cloud.r-project.org/bin/linux/ubuntu bionic-cran40/ InRelease\n",
            "Ign:3 https://developer.download.nvidia.com/compute/cuda/repos/ubuntu1804/x86_64  InRelease\n",
            "Hit:4 http://archive.ubuntu.com/ubuntu bionic InRelease\n",
            "Hit:5 http://ppa.launchpad.net/c2d4u.team/c2d4u4.0+/ubuntu bionic InRelease\n",
            "Ign:6 https://developer.download.nvidia.com/compute/machine-learning/repos/ubuntu1804/x86_64  InRelease\n",
            "Get:7 https://developer.download.nvidia.com/compute/cuda/repos/ubuntu1804/x86_64  Release [697 B]\n",
            "Hit:8 https://developer.download.nvidia.com/compute/machine-learning/repos/ubuntu1804/x86_64  Release\n",
            "Get:9 https://developer.download.nvidia.com/compute/cuda/repos/ubuntu1804/x86_64  Release.gpg [836 B]\n",
            "Get:10 http://archive.ubuntu.com/ubuntu bionic-updates InRelease [88.7 kB]\n",
            "Hit:11 http://ppa.launchpad.net/cran/libgit2/ubuntu bionic InRelease\n",
            "Get:12 http://ppa.launchpad.net/deadsnakes/ppa/ubuntu bionic InRelease [15.9 kB]\n",
            "Get:13 http://security.ubuntu.com/ubuntu bionic-security/universe amd64 Packages [1,418 kB]\n",
            "Get:14 http://archive.ubuntu.com/ubuntu bionic-backports InRelease [74.6 kB]\n",
            "Get:15 http://security.ubuntu.com/ubuntu bionic-security/main amd64 Packages [2,219 kB]\n",
            "Get:16 http://security.ubuntu.com/ubuntu bionic-security/restricted amd64 Packages [473 kB]\n",
            "Get:17 http://ppa.launchpad.net/graphics-drivers/ppa/ubuntu bionic InRelease [21.3 kB]\n",
            "Ign:19 https://developer.download.nvidia.com/compute/cuda/repos/ubuntu1804/x86_64  Packages\n",
            "Get:19 https://developer.download.nvidia.com/compute/cuda/repos/ubuntu1804/x86_64  Packages [599 kB]\n",
            "Get:20 http://archive.ubuntu.com/ubuntu bionic-updates/main amd64 Packages [2,652 kB]\n",
            "Get:21 http://ppa.launchpad.net/deadsnakes/ppa/ubuntu bionic/main amd64 Packages [40.9 kB]\n",
            "Get:22 http://archive.ubuntu.com/ubuntu bionic-updates/universe amd64 Packages [2,188 kB]\n",
            "Get:23 http://archive.ubuntu.com/ubuntu bionic-updates/restricted amd64 Packages [505 kB]\n",
            "Get:24 http://ppa.launchpad.net/graphics-drivers/ppa/ubuntu bionic/main amd64 Packages [41.5 kB]\n",
            "Fetched 10.4 MB in 3s (3,127 kB/s)\n",
            "Reading package lists... Done\n",
            "Reading package lists... Done\n",
            "Building dependency tree       \n",
            "Reading state information... Done\n",
            "The following additional packages will be installed:\n",
            "  chromium-browser chromium-browser-l10n chromium-codecs-ffmpeg-extra\n",
            "Suggested packages:\n",
            "  webaccounts-chromium-extension unity-chromium-extension\n",
            "The following NEW packages will be installed:\n",
            "  chromium-browser chromium-browser-l10n chromium-chromedriver\n",
            "  chromium-codecs-ffmpeg-extra\n",
            "0 upgraded, 4 newly installed, 0 to remove and 70 not upgraded.\n",
            "Need to get 86.0 MB of archives.\n",
            "After this operation, 298 MB of additional disk space will be used.\n",
            "Get:1 http://archive.ubuntu.com/ubuntu bionic-updates/universe amd64 chromium-codecs-ffmpeg-extra amd64 91.0.4472.101-0ubuntu0.18.04.1 [1,124 kB]\n",
            "Get:2 http://archive.ubuntu.com/ubuntu bionic-updates/universe amd64 chromium-browser amd64 91.0.4472.101-0ubuntu0.18.04.1 [76.1 MB]\n",
            "Get:3 http://archive.ubuntu.com/ubuntu bionic-updates/universe amd64 chromium-browser-l10n all 91.0.4472.101-0ubuntu0.18.04.1 [3,937 kB]\n",
            "Get:4 http://archive.ubuntu.com/ubuntu bionic-updates/universe amd64 chromium-chromedriver amd64 91.0.4472.101-0ubuntu0.18.04.1 [4,837 kB]\n",
            "Fetched 86.0 MB in 4s (22.1 MB/s)\n",
            "Selecting previously unselected package chromium-codecs-ffmpeg-extra.\n",
            "(Reading database ... 160772 files and directories currently installed.)\n",
            "Preparing to unpack .../chromium-codecs-ffmpeg-extra_91.0.4472.101-0ubuntu0.18.04.1_amd64.deb ...\n",
            "Unpacking chromium-codecs-ffmpeg-extra (91.0.4472.101-0ubuntu0.18.04.1) ...\n",
            "Selecting previously unselected package chromium-browser.\n",
            "Preparing to unpack .../chromium-browser_91.0.4472.101-0ubuntu0.18.04.1_amd64.deb ...\n",
            "Unpacking chromium-browser (91.0.4472.101-0ubuntu0.18.04.1) ...\n",
            "Selecting previously unselected package chromium-browser-l10n.\n",
            "Preparing to unpack .../chromium-browser-l10n_91.0.4472.101-0ubuntu0.18.04.1_all.deb ...\n",
            "Unpacking chromium-browser-l10n (91.0.4472.101-0ubuntu0.18.04.1) ...\n",
            "Selecting previously unselected package chromium-chromedriver.\n",
            "Preparing to unpack .../chromium-chromedriver_91.0.4472.101-0ubuntu0.18.04.1_amd64.deb ...\n",
            "Unpacking chromium-chromedriver (91.0.4472.101-0ubuntu0.18.04.1) ...\n",
            "Setting up chromium-codecs-ffmpeg-extra (91.0.4472.101-0ubuntu0.18.04.1) ...\n",
            "Setting up chromium-browser (91.0.4472.101-0ubuntu0.18.04.1) ...\n",
            "update-alternatives: using /usr/bin/chromium-browser to provide /usr/bin/x-www-browser (x-www-browser) in auto mode\n",
            "update-alternatives: using /usr/bin/chromium-browser to provide /usr/bin/gnome-www-browser (gnome-www-browser) in auto mode\n",
            "Setting up chromium-chromedriver (91.0.4472.101-0ubuntu0.18.04.1) ...\n",
            "Setting up chromium-browser-l10n (91.0.4472.101-0ubuntu0.18.04.1) ...\n",
            "Processing triggers for man-db (2.8.3-2ubuntu0.1) ...\n",
            "Processing triggers for hicolor-icon-theme (0.17-2) ...\n",
            "Processing triggers for mime-support (3.60ubuntu1) ...\n",
            "Processing triggers for libc-bin (2.27-3ubuntu1.2) ...\n",
            "/sbin/ldconfig.real: /usr/local/lib/python3.7/dist-packages/ideep4py/lib/libmkldnn.so.0 is not a symbolic link\n",
            "\n",
            "cp: '/usr/lib/chromium-browser/chromedriver' and '/usr/bin/chromedriver' are the same file\n",
            "Requirement already satisfied: selenium in /usr/local/lib/python3.7/dist-packages (3.141.0)\n",
            "Requirement already satisfied: urllib3 in /usr/local/lib/python3.7/dist-packages (from selenium) (1.24.3)\n"
          ],
          "name": "stdout"
        }
      ]
    },
    {
      "cell_type": "markdown",
      "metadata": {
        "id": "dhIOaqGdrw9a"
      },
      "source": [
        "**분석할 데이터 모으기(크롤링)**"
      ]
    },
    {
      "cell_type": "markdown",
      "metadata": {
        "id": "kFU_suBKr1eH"
      },
      "source": [
        "네이버 영화 TOP100 페이지별 링크 수집"
      ]
    },
    {
      "cell_type": "code",
      "metadata": {
        "id": "Ky239ZjTr07i"
      },
      "source": [
        "# https://serieson.naver.com/movie/top100List.nhn?&rankingTypeCode=PC_R&page=(1,5) 실시간\n",
        "# https://serieson.naver.com/movie/top100List.nhn?&rankingTypeCode=PC_D&page=(1,5) 일간\n",
        "# https://serieson.naver.com/movie/top100List.nhn?&rankingTypeCode=PC_W&page=(1,5) 주간\n",
        "# https://serieson.naver.com/movie/top100List.nhn?&rankingTypeCode=PC_M&page=(1,5) 월간\n",
        "\n",
        "def getPageLinksWantRange(startPageNo, lastPageNo) :\n",
        "  links = [] # 100개의 영화링크를 수집할 리스트 변수 선언\n",
        "  \n",
        "  for pageNo in range(startPageNo-1, lastPageNo) :\n",
        "    # 실시간 TOP 100 영화 링크 수집\n",
        "    url = 'https://serieson.naver.com/movie/top100List.nhn?&rankingTypeCode=PC_D&page=' + str(pageNo+1)\n",
        "\n",
        "    req = requests.get(url) # 페이지 접속\n",
        "    soup = BeautifulSoup(req.text, 'lxml')\n",
        "    # html 파싱(원하는 위치에 있는 값을 찾아줌)을 위한 객체 생성, 불러올 데이터 정보가 lxml형식이다\n",
        "    movielinks = soup.select('div.lst_thum_wrap ul li a[href]')\n",
        "    # 해당페이지의 페이지소스 중 378line 확인\n",
        "    # <div class=\"lst_thum_wrap\"> -> <ul> -> <li> -> <a href =\"\">\n",
        "    # div 일종의 박스, 여기 안에 무슨 정보를 넣을 거다\n",
        "    # ul(반복되는 정보) 안에 li가 들어있다(주로 그렇기 때문에 세트로 생각하면 좋다)\n",
        "\n",
        "    # movielinks의 링크는 완전한 형태의 링크가 아니기 때문에 부족한 앞부분을 채워 완전한 링크를 만들어줘야함\n",
        "\n",
        "    for movielink in movielinks :\n",
        "      link = str(movielink.get('href'))\n",
        "\n",
        "      links.append(\"https://series.naver.com\" + link) # 접속가능한 전체링크 형태로 변환하여 links 리스트에 넣어줌\n",
        "      \n",
        "  return links\n"
      ],
      "execution_count": 4,
      "outputs": []
    },
    {
      "cell_type": "markdown",
      "metadata": {
        "id": "zZOQRGrsya35"
      },
      "source": [
        "네이버 실시간 TOP100 영화 제목, 평점, 장르, 줄거리 크롤링"
      ]
    },
    {
      "cell_type": "code",
      "metadata": {
        "id": "tONTqQcyx5u8"
      },
      "source": [
        "def getMovieDataFromNaverSeries(links):\n",
        "  title_infos = [] # 제목\n",
        "  content_infos = [] # 줄거리\n",
        "  genre_infos = [] # 장르\n",
        "  score_infos = [] # 평점\n",
        "  date_infos = [] # 개봉일\n",
        "\n",
        "  url2 = \"https://www.naver.com\"\n",
        "  # 원하는 링크로 지속적으로 바로 들어가면 해당 사이트에서 비정상적인 접근으로 인식하여 내 IP차단할 가능성 있음\n",
        "  \n",
        "  driver = webdriver.Chrome('chromedriver', options=options) # 나 대신 링크에 들어갈 드라이버 생성\n",
        "  driver.get(url2)\n",
        "  time.sleep(3.0) # 3초 정도 sleep(사람이 진짜 보는 것처럼 인식하도록)\n",
        "\n",
        "  driver.find_element_by_css_selector('body').send_keys(Keys.CONTROL + 't')\n",
        "  # 새 창을 열어서 해당 링크로 가게끔하여 사람처럼 느끼도록\n",
        "\n",
        "  for link in links:\n",
        "    print(link + '수집중......')\n",
        "\n",
        "    driver.switch_to.window(driver.window_handles[-1]) \n",
        "    \n",
        "    time.sleep(0.1)\n",
        "    driver.get(link)\n",
        "    time.sleep(0.1)\n",
        "    driver.switch_to.window(driver.window_handles[0])\n",
        "    # 새창 활성화(새 탭이 열린 것을 클릭하여 들어갈 수 있도록)\n",
        "    time.sleep(3.0)\n",
        "\n",
        "    html_source = driver.page_source # req.text와 같은 동작\n",
        "    html_soup = BeautifulSoup(html_source, 'lxml')\n",
        "\n",
        "    # 청소년 관람불가 영화 크롤링시, 연령인증위한 로그인을 하라고 하니 수집에서 제외시킴\n",
        "    flag = html_soup.text[0:10] # 이 부분을 확인하면 로그인 화면인지 알 수 있음\n",
        "    \n",
        "    newflag= ''.join(flag)\n",
        "    newflag= newflag.replace('\\n','')\n",
        "\n",
        "    if newflag == '네이버' :\n",
        "      time.sleep(1.0)\n",
        "\n",
        "      # 평점 수집\n",
        "      score = driver.find_element_by_css_selector('div.score_area > em')\n",
        "      score = float(score.text)\n",
        "      score = int(score)\n",
        "      score_infos.append(score)\n",
        "      print(score)\n",
        "\n",
        "      # 장르 수집\n",
        "      genre = driver.find_element_by_css_selector('li.info_lst > ul > li:nth-child(4)').get_attribute('textContent') # 정보들 중에 텍스트로 된 것만 가져와 (장르, 장르명) 두 가지가 들어올 예정임\n",
        "      genre = genre.replace('장르','')\n",
        "      genre = genre.replace('\\n','')\n",
        "      genre = genre.replace('\\t','')\n",
        "      genre_infos.append(genre)\n",
        "\n",
        "      # 제목, 줄거리, 개봉일\n",
        "      \n",
        "      try :\n",
        "        movieinfoUrl = driver.find_element_by_css_selector('li.info_lst > ul > li:nth-child(7) > a').get_attribute('href')\n",
        "      except :\n",
        "        movieinfoUrl = driver.find_element_by_css_selector('li.info_lst > ul > li:nth-child(6) > a').get_attribute('href')\n",
        "\n",
        "      # 영와 상세보기 페이지로 이동\n",
        "      movie_req = requests.get(movieinfoUrl)\n",
        "\n",
        "      # 제목 수집\n",
        "      movie_soup = BeautifulSoup(movie_req.text, 'lxml')\n",
        "      title = movie_soup.head.find('meta',{'property':'og:title'}).get('content')\n",
        "      title_infos.append(title)\n",
        "\n",
        "      # 줄거리 수집\n",
        "      contents_texts = movie_soup.select('div.story_area > p.con_tx')\n",
        "\n",
        "      if len(contents_texts) == 0 :\n",
        "        content_infos.append('줄거리 오류')\n",
        "\n",
        "      else :\n",
        "        for contents in contents_texts:\n",
        "          # 줄거리 데이터 클렌징 작업\n",
        "          temp = contents.text\n",
        "          temp = temp.replace('\\r','') # 줄바꿈 제거\n",
        "          temp = temp.replace('\\xa0','') # 공백 제거\n",
        "          content_infos.append(temp)\n",
        "\n",
        "    elif newflag == '' :\n",
        "      print('청소년 관람불가 영화로 데이터를 수집하지 않습니다.')\n",
        "  \n",
        "  print('수집을 완료합니다.')\n",
        "  print(len(score_infos), len(genre_infos), len(content_infos))\n",
        "  driver.close()\n",
        "  \n",
        "  # 수집한 영화정보들을 하나의 파일로 만들기 위해 딕셔너리에 넣어줌\n",
        "  movie_dic = {'제목' : title_infos, '평점' : score_infos, '장르' : genre_infos, '줄거리' : content_infos}\n",
        "  \n",
        "  # 딕셔너리 -> DataFrame\n",
        "  movie_df = pd.DataFrame(movie_dic)\n",
        "  \n",
        "  # 수집된 정보 중에 중복 데이터 삭제(줄거리를 비교하여 첫번째 수집 영화데이터만 남기고 삭제)\n",
        "  movie_df2 = movie_df.drop_duplicates('줄거리', keep='first')\n",
        "\n",
        "  return movie_df2"
      ],
      "execution_count": 5,
      "outputs": []
    },
    {
      "cell_type": "markdown",
      "metadata": {
        "id": "33Khto0OypOD"
      },
      "source": [
        "CSV파일로 저장"
      ]
    },
    {
      "cell_type": "code",
      "metadata": {
        "id": "s9nChAp9KlQY"
      },
      "source": [
        "def dftoCsv(movie_df, num):\n",
        "  try:\n",
        "    movie_df.to_csv(('movie_my_date_'+str(num)+'.csv'),\n",
        "                    sep=',',\n",
        "                    na_rep='NaN',\n",
        "                    encoding='euc-kr')\n",
        "  except:\n",
        "    print('Error')"
      ],
      "execution_count": 6,
      "outputs": []
    },
    {
      "cell_type": "markdown",
      "metadata": {
        "id": "twt3yyxWMO7z"
      },
      "source": [
        "크롤링 실행"
      ]
    },
    {
      "cell_type": "code",
      "metadata": {
        "colab": {
          "base_uri": "https://localhost:8080/"
        },
        "id": "jYmDWVLCLdfv",
        "outputId": "b3d91c42-fbee-4530-aaa2-1f7b22ee1f47"
      },
      "source": [
        "#1) 크롤링 할 링크 수집\n",
        "\n",
        "links = getPageLinksWantRange(1,5)\n",
        "\n",
        "#2) 영화 상세정보 수집\n",
        "movie_df2 = getMovieDataFromNaverSeries(links)\n",
        "\n",
        "#3) csv파일 저장\n",
        "dftoCsv(movie_df2, len(movie_df2))\n"
      ],
      "execution_count": 7,
      "outputs": [
        {
          "output_type": "stream",
          "text": [
            "https://series.naver.com/movie/detail.nhn?productNo=6291892수집중......\n",
            "9\n",
            "https://series.naver.com/movie/detail.nhn?productNo=3400212수집중......\n",
            "7\n",
            "https://series.naver.com/movie/detail.nhn?productNo=3024534수집중......\n",
            "8\n",
            "https://series.naver.com/movie/detail.nhn?productNo=2822635수집중......\n",
            "청소년 관람불가 영화로 데이터를 수집하지 않습니다.\n",
            "https://series.naver.com/movie/detail.nhn?productNo=6315371수집중......\n",
            "9\n",
            "https://series.naver.com/movie/detail.nhn?productNo=3639460수집중......\n",
            "청소년 관람불가 영화로 데이터를 수집하지 않습니다.\n",
            "https://series.naver.com/movie/detail.nhn?productNo=6023769수집중......\n",
            "9\n",
            "https://series.naver.com/movie/detail.nhn?productNo=6283368수집중......\n",
            "6\n",
            "https://series.naver.com/movie/detail.nhn?productNo=6243813수집중......\n",
            "9\n",
            "https://series.naver.com/movie/detail.nhn?productNo=6119777수집중......\n",
            "7\n",
            "https://series.naver.com/movie/detail.nhn?productNo=6139375수집중......\n",
            "9\n",
            "https://series.naver.com/movie/detail.nhn?productNo=2686058수집중......\n",
            "청소년 관람불가 영화로 데이터를 수집하지 않습니다.\n",
            "https://series.naver.com/movie/detail.nhn?productNo=2747742수집중......\n",
            "8\n",
            "https://series.naver.com/movie/detail.nhn?productNo=3293948수집중......\n",
            "청소년 관람불가 영화로 데이터를 수집하지 않습니다.\n",
            "https://series.naver.com/movie/detail.nhn?productNo=6176165수집중......\n",
            "8\n",
            "https://series.naver.com/movie/detail.nhn?productNo=6257268수집중......\n",
            "9\n",
            "https://series.naver.com/movie/detail.nhn?productNo=4579842수집중......\n",
            "8\n",
            "https://series.naver.com/movie/detail.nhn?productNo=6176542수집중......\n",
            "8\n",
            "https://series.naver.com/movie/detail.nhn?productNo=6158879수집중......\n",
            "9\n",
            "https://series.naver.com/movie/detail.nhn?productNo=4356726수집중......\n",
            "9\n",
            "https://series.naver.com/movie/detail.nhn?productNo=6253746수집중......\n",
            "8\n",
            "https://series.naver.com/movie/detail.nhn?productNo=3400211수집중......\n",
            "7\n",
            "https://series.naver.com/movie/detail.nhn?productNo=6063434수집중......\n",
            "7\n",
            "https://series.naver.com/movie/detail.nhn?productNo=6176166수집중......\n",
            "8\n",
            "https://series.naver.com/movie/detail.nhn?productNo=6098871수집중......\n",
            "9\n",
            "https://series.naver.com/movie/detail.nhn?productNo=1101500수집중......\n",
            "청소년 관람불가 영화로 데이터를 수집하지 않습니다.\n",
            "https://series.naver.com/movie/detail.nhn?productNo=1729987수집중......\n",
            "청소년 관람불가 영화로 데이터를 수집하지 않습니다.\n",
            "https://series.naver.com/movie/detail.nhn?productNo=3056481수집중......\n",
            "청소년 관람불가 영화로 데이터를 수집하지 않습니다.\n",
            "https://series.naver.com/movie/detail.nhn?productNo=6176518수집중......\n",
            "청소년 관람불가 영화로 데이터를 수집하지 않습니다.\n",
            "https://series.naver.com/movie/detail.nhn?productNo=1537164수집중......\n",
            "청소년 관람불가 영화로 데이터를 수집하지 않습니다.\n",
            "https://series.naver.com/movie/detail.nhn?productNo=1605628수집중......\n",
            "8\n",
            "https://series.naver.com/movie/detail.nhn?productNo=5110441수집중......\n",
            "청소년 관람불가 영화로 데이터를 수집하지 않습니다.\n",
            "https://series.naver.com/movie/detail.nhn?productNo=6139377수집중......\n",
            "8\n",
            "https://series.naver.com/movie/detail.nhn?productNo=5843892수집중......\n",
            "8\n",
            "https://series.naver.com/movie/detail.nhn?productNo=3081843수집중......\n",
            "청소년 관람불가 영화로 데이터를 수집하지 않습니다.\n",
            "https://series.naver.com/movie/detail.nhn?productNo=1965132수집중......\n",
            "청소년 관람불가 영화로 데이터를 수집하지 않습니다.\n",
            "https://series.naver.com/movie/detail.nhn?productNo=3593762수집중......\n",
            "8\n",
            "https://series.naver.com/movie/detail.nhn?productNo=2787777수집중......\n",
            "청소년 관람불가 영화로 데이터를 수집하지 않습니다.\n",
            "https://series.naver.com/movie/detail.nhn?productNo=1753829수집중......\n",
            "8\n",
            "https://series.naver.com/movie/detail.nhn?productNo=5751044수집중......\n",
            "8\n",
            "https://series.naver.com/movie/detail.nhn?productNo=2405537수집중......\n",
            "7\n",
            "https://series.naver.com/movie/detail.nhn?productNo=3241116수집중......\n",
            "9\n",
            "https://series.naver.com/movie/detail.nhn?productNo=510029수집중......\n",
            "청소년 관람불가 영화로 데이터를 수집하지 않습니다.\n",
            "https://series.naver.com/movie/detail.nhn?productNo=5607754수집중......\n",
            "8\n",
            "https://series.naver.com/movie/detail.nhn?productNo=5701576수집중......\n",
            "9\n",
            "https://series.naver.com/movie/detail.nhn?productNo=6039515수집중......\n",
            "0\n",
            "https://series.naver.com/movie/detail.nhn?productNo=6283369수집중......\n",
            "6\n",
            "https://series.naver.com/movie/detail.nhn?productNo=1760739수집중......\n",
            "8\n",
            "https://series.naver.com/movie/detail.nhn?productNo=4517655수집중......\n",
            "6\n",
            "https://series.naver.com/movie/detail.nhn?productNo=1808511수집중......\n",
            "9\n",
            "https://series.naver.com/movie/detail.nhn?productNo=552985수집중......\n",
            "청소년 관람불가 영화로 데이터를 수집하지 않습니다.\n",
            "https://series.naver.com/movie/detail.nhn?productNo=1619627수집중......\n",
            "8\n",
            "https://series.naver.com/movie/detail.nhn?productNo=585441수집중......\n",
            "9\n",
            "https://series.naver.com/movie/detail.nhn?productNo=3680226수집중......\n",
            "청소년 관람불가 영화로 데이터를 수집하지 않습니다.\n",
            "https://series.naver.com/movie/detail.nhn?productNo=6176543수집중......\n",
            "8\n",
            "https://series.naver.com/movie/detail.nhn?productNo=2586406수집중......\n",
            "7\n",
            "https://series.naver.com/movie/detail.nhn?productNo=5951606수집중......\n",
            "청소년 관람불가 영화로 데이터를 수집하지 않습니다.\n",
            "https://series.naver.com/movie/detail.nhn?productNo=2015025수집중......\n",
            "9\n",
            "https://series.naver.com/movie/detail.nhn?productNo=4881160수집중......\n",
            "7\n",
            "https://series.naver.com/movie/detail.nhn?productNo=6069154수집중......\n",
            "9\n",
            "https://series.naver.com/movie/detail.nhn?productNo=5482161수집중......\n",
            "7\n",
            "https://series.naver.com/movie/detail.nhn?productNo=4475562수집중......\n",
            "7\n",
            "https://series.naver.com/movie/detail.nhn?productNo=3478547수집중......\n",
            "9\n",
            "https://series.naver.com/movie/detail.nhn?productNo=412868수집중......\n",
            "9\n",
            "https://series.naver.com/movie/detail.nhn?productNo=5778853수집중......\n",
            "7\n",
            "https://series.naver.com/movie/detail.nhn?productNo=4508244수집중......\n",
            "9\n",
            "https://series.naver.com/movie/detail.nhn?productNo=2909332수집중......\n",
            "8\n",
            "https://series.naver.com/movie/detail.nhn?productNo=6139376수집중......\n",
            "9\n",
            "https://series.naver.com/movie/detail.nhn?productNo=3843473수집중......\n",
            "7\n",
            "https://series.naver.com/movie/detail.nhn?productNo=3226852수집중......\n",
            "9\n",
            "https://series.naver.com/movie/detail.nhn?productNo=3239240수집중......\n",
            "9\n",
            "https://series.naver.com/movie/detail.nhn?productNo=2166247수집중......\n",
            "청소년 관람불가 영화로 데이터를 수집하지 않습니다.\n",
            "https://series.naver.com/movie/detail.nhn?productNo=1833976수집중......\n",
            "청소년 관람불가 영화로 데이터를 수집하지 않습니다.\n",
            "https://series.naver.com/movie/detail.nhn?productNo=6210977수집중......\n",
            "9\n",
            "https://series.naver.com/movie/detail.nhn?productNo=6119778수집중......\n",
            "7\n",
            "https://series.naver.com/movie/detail.nhn?productNo=1909575수집중......\n",
            "9\n",
            "https://series.naver.com/movie/detail.nhn?productNo=1405968수집중......\n",
            "청소년 관람불가 영화로 데이터를 수집하지 않습니다.\n",
            "https://series.naver.com/movie/detail.nhn?productNo=5404435수집중......\n",
            "9\n",
            "https://series.naver.com/movie/detail.nhn?productNo=4021296수집중......\n",
            "9\n",
            "https://series.naver.com/movie/detail.nhn?productNo=3448644수집중......\n",
            "8\n",
            "https://series.naver.com/movie/detail.nhn?productNo=1775085수집중......\n",
            "청소년 관람불가 영화로 데이터를 수집하지 않습니다.\n",
            "https://series.naver.com/movie/detail.nhn?productNo=407636수집중......\n",
            "청소년 관람불가 영화로 데이터를 수집하지 않습니다.\n",
            "https://series.naver.com/movie/detail.nhn?productNo=3509734수집중......\n",
            "5\n",
            "https://series.naver.com/movie/detail.nhn?productNo=3766068수집중......\n",
            "9\n",
            "https://series.naver.com/movie/detail.nhn?productNo=1974569수집중......\n",
            "청소년 관람불가 영화로 데이터를 수집하지 않습니다.\n",
            "https://series.naver.com/movie/detail.nhn?productNo=5465063수집중......\n",
            "0\n",
            "https://series.naver.com/movie/detail.nhn?productNo=5673193수집중......\n",
            "9\n",
            "https://series.naver.com/movie/detail.nhn?productNo=4821120수집중......\n",
            "8\n",
            "https://series.naver.com/movie/detail.nhn?productNo=4180723수집중......\n",
            "6\n",
            "https://series.naver.com/movie/detail.nhn?productNo=3744354수집중......\n",
            "9\n",
            "https://series.naver.com/movie/detail.nhn?productNo=3406719수집중......\n",
            "8\n",
            "https://series.naver.com/movie/detail.nhn?productNo=3262026수집중......\n",
            "9\n",
            "https://series.naver.com/movie/detail.nhn?productNo=3262024수집중......\n",
            "9\n",
            "https://series.naver.com/movie/detail.nhn?productNo=1781025수집중......\n",
            "9\n",
            "https://series.naver.com/movie/detail.nhn?productNo=918042수집중......\n",
            "청소년 관람불가 영화로 데이터를 수집하지 않습니다.\n",
            "https://series.naver.com/movie/detail.nhn?productNo=1521935수집중......\n",
            "9\n",
            "https://series.naver.com/movie/detail.nhn?productNo=6257257수집중......\n",
            "7\n",
            "https://series.naver.com/movie/detail.nhn?productNo=4465876수집중......\n",
            "7\n",
            "https://series.naver.com/movie/detail.nhn?productNo=4406203수집중......\n",
            "청소년 관람불가 영화로 데이터를 수집하지 않습니다.\n",
            "https://series.naver.com/movie/detail.nhn?productNo=3327477수집중......\n",
            "8\n",
            "수집을 완료합니다.\n",
            "75 75 75\n"
          ],
          "name": "stdout"
        }
      ]
    },
    {
      "cell_type": "markdown",
      "metadata": {
        "id": "SxCzivjKib_V"
      },
      "source": [
        "실행완료까지 12분 5초"
      ]
    }
  ]
}