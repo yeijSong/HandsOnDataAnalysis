{
  "nbformat": 4,
  "nbformat_minor": 0,
  "metadata": {
    "colab": {
      "name": "09_타슈 지도 시각화.ipynb",
      "provenance": [],
      "authorship_tag": "ABX9TyOBHVzUKylcZOcuxBCjASux",
      "include_colab_link": true
    },
    "kernelspec": {
      "name": "python3",
      "display_name": "Python 3"
    },
    "language_info": {
      "name": "python"
    }
  },
  "cells": [
    {
      "cell_type": "markdown",
      "metadata": {
        "id": "view-in-github",
        "colab_type": "text"
      },
      "source": [
        "<a href=\"https://colab.research.google.com/github/yeijSong/HandsOnDataAnalysis/blob/main/class/09_%ED%83%80%EC%8A%88_%EC%A7%80%EB%8F%84_%EC%8B%9C%EA%B0%81%ED%99%94.ipynb\" target=\"_parent\"><img src=\"https://colab.research.google.com/assets/colab-badge.svg\" alt=\"Open In Colab\"/></a>"
      ]
    },
    {
      "cell_type": "markdown",
      "metadata": {
        "id": "RrdJMW8deoSA"
      },
      "source": [
        "라이브러리 불러오기"
      ]
    },
    {
      "cell_type": "code",
      "metadata": {
        "id": "ArQpp1k5eiVR"
      },
      "source": [
        "import pandas as pd\n",
        "import folium"
      ],
      "execution_count": 1,
      "outputs": []
    },
    {
      "cell_type": "code",
      "metadata": {
        "colab": {
          "base_uri": "https://localhost:8080/",
          "height": 36
        },
        "id": "gJpxSYXPev_R",
        "outputId": "db0c01df-0d89-48b9-8708-68cdd1aeed0b"
      },
      "source": [
        "#코랩에서 제공하는 Folium 버전 확인\n",
        "folium.__version__\n"
      ],
      "execution_count": 2,
      "outputs": [
        {
          "output_type": "execute_result",
          "data": {
            "application/vnd.google.colaboratory.intrinsic+json": {
              "type": "string"
            },
            "text/plain": [
              "'0.8.3'"
            ]
          },
          "metadata": {
            "tags": []
          },
          "execution_count": 2
        }
      ]
    },
    {
      "cell_type": "markdown",
      "metadata": {
        "id": "N-xK0yiJe1H6"
      },
      "source": [
        "지도 그리기"
      ]
    },
    {
      "cell_type": "code",
      "metadata": {
        "id": "wfB64c5qe02Z"
      },
      "source": [
        "map = folium.Map(location=[36.351, 127.386])\n",
        "map"
      ],
      "execution_count": null,
      "outputs": []
    },
    {
      "cell_type": "markdown",
      "metadata": {
        "id": "DXo1fWtMfWrf"
      },
      "source": [
        "zoom을 이용하여 지도 확대?"
      ]
    },
    {
      "cell_type": "code",
      "metadata": {
        "id": "ncKjiZfxfFDG"
      },
      "source": [
        "map = folium.Map(location=[36.351, 127.386], zoom_start=12)\n",
        "map"
      ],
      "execution_count": null,
      "outputs": []
    },
    {
      "cell_type": "markdown",
      "metadata": {
        "id": "MiqUxDbDfKH0"
      },
      "source": [
        "지도 스타일(tiles 옵션)\n",
        "\n",
        "\n",
        "1. OpenStreetMap,\n",
        "2. Stamen Terrain(featuring hill shading and natural vegetation colors),\n",
        "3. Stamen Toner(high-contrast B+W (black and white))\n",
        "\n",
        "\n"
      ]
    },
    {
      "cell_type": "code",
      "metadata": {
        "id": "X2QJvDphfJIm"
      },
      "source": [
        "map = folium.Map(location=[36.351, 127.386], zoom_start=12, tiles='OpenStreetMap') # tiles의 디폴트는 OpenStreetMap이므로 동일하게 보임\n",
        "map"
      ],
      "execution_count": null,
      "outputs": []
    },
    {
      "cell_type": "code",
      "metadata": {
        "id": "twXQEEQhfogQ"
      },
      "source": [
        "map = folium.Map(location=[36.351, 127.386], zoom_start=12, tiles='Stamen Toner')\n",
        "map"
      ],
      "execution_count": null,
      "outputs": []
    },
    {
      "cell_type": "code",
      "metadata": {
        "id": "itKoAbvKgTw-"
      },
      "source": [
        "map = folium.Map(location=[36.351, 127.386], zoom_start=12, tiles='Stamen Terrain')\n",
        "map"
      ],
      "execution_count": null,
      "outputs": []
    },
    {
      "cell_type": "markdown",
      "metadata": {
        "id": "Fdp_DhUghRRk"
      },
      "source": [
        "### 타슈 데이터 시각화"
      ]
    },
    {
      "cell_type": "markdown",
      "metadata": {
        "id": "Ax5skRGdhXne"
      },
      "source": [
        "지도 그리기"
      ]
    },
    {
      "cell_type": "code",
      "metadata": {
        "id": "MgYBBi3GhS0x"
      },
      "source": [
        "map = folium.Map(location=[36.351, 127.386], zoom_start=12)\n",
        "map"
      ],
      "execution_count": null,
      "outputs": []
    },
    {
      "cell_type": "markdown",
      "metadata": {
        "id": "rEhxZWVUheRX"
      },
      "source": [
        "데이터 가져오기"
      ]
    },
    {
      "cell_type": "code",
      "metadata": {
        "colab": {
          "base_uri": "https://localhost:8080/"
        },
        "id": "stvLalbbhce5",
        "outputId": "e09e02bf-e12c-4715-ee7d-1e05cfbf81dc"
      },
      "source": [
        "df = pd.read_csv('TASHU.csv')\n",
        "df.info()"
      ],
      "execution_count": 12,
      "outputs": [
        {
          "output_type": "stream",
          "text": [
            "<class 'pandas.core.frame.DataFrame'>\n",
            "RangeIndex: 262 entries, 0 to 261\n",
            "Data columns (total 6 columns):\n",
            " #   Column      Non-Null Count  Dtype  \n",
            "---  ------      --------------  -----  \n",
            " 0   Unnamed: 0  262 non-null    int64  \n",
            " 1   스테이션명       262 non-null    object \n",
            " 2   위치          262 non-null    object \n",
            " 3   상태정보        262 non-null    object \n",
            " 4   위도          262 non-null    float64\n",
            " 5   경도          262 non-null    float64\n",
            "dtypes: float64(2), int64(1), object(3)\n",
            "memory usage: 12.4+ KB\n"
          ],
          "name": "stdout"
        }
      ]
    },
    {
      "cell_type": "code",
      "metadata": {
        "colab": {
          "base_uri": "https://localhost:8080/",
          "height": 141
        },
        "id": "o3n5LxtChw3h",
        "outputId": "9da31756-5e1a-4682-ca6a-3dea41cb41fa"
      },
      "source": [
        "df.head(3)"
      ],
      "execution_count": 13,
      "outputs": [
        {
          "output_type": "execute_result",
          "data": {
            "text/html": [
              "<div>\n",
              "<style scoped>\n",
              "    .dataframe tbody tr th:only-of-type {\n",
              "        vertical-align: middle;\n",
              "    }\n",
              "\n",
              "    .dataframe tbody tr th {\n",
              "        vertical-align: top;\n",
              "    }\n",
              "\n",
              "    .dataframe thead th {\n",
              "        text-align: right;\n",
              "    }\n",
              "</style>\n",
              "<table border=\"1\" class=\"dataframe\">\n",
              "  <thead>\n",
              "    <tr style=\"text-align: right;\">\n",
              "      <th></th>\n",
              "      <th>Unnamed: 0</th>\n",
              "      <th>스테이션명</th>\n",
              "      <th>위치</th>\n",
              "      <th>상태정보</th>\n",
              "      <th>위도</th>\n",
              "      <th>경도</th>\n",
              "    </tr>\n",
              "  </thead>\n",
              "  <tbody>\n",
              "    <tr>\n",
              "      <th>0</th>\n",
              "      <td>0</td>\n",
              "      <td>무역전시관입구(택시승강장)</td>\n",
              "      <td>유성구 도룡동 3-8</td>\n",
              "      <td>정상</td>\n",
              "      <td>36.374580</td>\n",
              "      <td>127.386131</td>\n",
              "    </tr>\n",
              "    <tr>\n",
              "      <th>1</th>\n",
              "      <td>1</td>\n",
              "      <td>대전컨벤션센터</td>\n",
              "      <td>유성구 도룡동 4-19</td>\n",
              "      <td>정상</td>\n",
              "      <td>36.374389</td>\n",
              "      <td>127.392375</td>\n",
              "    </tr>\n",
              "    <tr>\n",
              "      <th>2</th>\n",
              "      <td>2</td>\n",
              "      <td>한밭수목원1</td>\n",
              "      <td>서구 만년동 396</td>\n",
              "      <td>정상</td>\n",
              "      <td>36.368995</td>\n",
              "      <td>127.388451</td>\n",
              "    </tr>\n",
              "  </tbody>\n",
              "</table>\n",
              "</div>"
            ],
            "text/plain": [
              "   Unnamed: 0           스테이션명              위치 상태정보         위도          경도\n",
              "0           0  무역전시관입구(택시승강장)    유성구 도룡동 3-8    정상  36.374580  127.386131\n",
              "1           1         대전컨벤션센터   유성구 도룡동 4-19    정상  36.374389  127.392375\n",
              "2           2          한밭수목원1     서구 만년동 396    정상  36.368995  127.388451"
            ]
          },
          "metadata": {
            "tags": []
          },
          "execution_count": 13
        }
      ]
    },
    {
      "cell_type": "code",
      "metadata": {
        "colab": {
          "base_uri": "https://localhost:8080/",
          "height": 141
        },
        "id": "rSt-BFsjh0d1",
        "outputId": "1013a268-e8b0-4d1d-e08d-2a887c7a2bd9"
      },
      "source": [
        "df.tail(3)"
      ],
      "execution_count": 14,
      "outputs": [
        {
          "output_type": "execute_result",
          "data": {
            "text/html": [
              "<div>\n",
              "<style scoped>\n",
              "    .dataframe tbody tr th:only-of-type {\n",
              "        vertical-align: middle;\n",
              "    }\n",
              "\n",
              "    .dataframe tbody tr th {\n",
              "        vertical-align: top;\n",
              "    }\n",
              "\n",
              "    .dataframe thead th {\n",
              "        text-align: right;\n",
              "    }\n",
              "</style>\n",
              "<table border=\"1\" class=\"dataframe\">\n",
              "  <thead>\n",
              "    <tr style=\"text-align: right;\">\n",
              "      <th></th>\n",
              "      <th>Unnamed: 0</th>\n",
              "      <th>스테이션명</th>\n",
              "      <th>위치</th>\n",
              "      <th>상태정보</th>\n",
              "      <th>위도</th>\n",
              "      <th>경도</th>\n",
              "    </tr>\n",
              "  </thead>\n",
              "  <tbody>\n",
              "    <tr>\n",
              "      <th>259</th>\n",
              "      <td>259</td>\n",
              "      <td>오정농수산물 도매시장</td>\n",
              "      <td>대덕구 오정동 45-1</td>\n",
              "      <td>정상</td>\n",
              "      <td>36.357693</td>\n",
              "      <td>127.407763</td>\n",
              "    </tr>\n",
              "    <tr>\n",
              "      <th>260</th>\n",
              "      <td>260</td>\n",
              "      <td>도로교통공단(건너편 라도무스)</td>\n",
              "      <td>유성구 원신흥동 608</td>\n",
              "      <td>정상</td>\n",
              "      <td>36.332692</td>\n",
              "      <td>127.333128</td>\n",
              "    </tr>\n",
              "    <tr>\n",
              "      <th>261</th>\n",
              "      <td>261</td>\n",
              "      <td>반석 더샵</td>\n",
              "      <td>유성구 반석동 704</td>\n",
              "      <td>정상</td>\n",
              "      <td>36.390096</td>\n",
              "      <td>127.305095</td>\n",
              "    </tr>\n",
              "  </tbody>\n",
              "</table>\n",
              "</div>"
            ],
            "text/plain": [
              "     Unnamed: 0             스테이션명              위치 상태정보         위도          경도\n",
              "259         259       오정농수산물 도매시장   대덕구 오정동 45-1    정상  36.357693  127.407763\n",
              "260         260  도로교통공단(건너편 라도무스)   유성구 원신흥동 608    정상  36.332692  127.333128\n",
              "261         261             반석 더샵    유성구 반석동 704    정상  36.390096  127.305095"
            ]
          },
          "metadata": {
            "tags": []
          },
          "execution_count": 14
        }
      ]
    },
    {
      "cell_type": "markdown",
      "metadata": {
        "id": "dwUiurtgiA4b"
      },
      "source": [
        "지도에 Markers를 이용한 타슈 위치 표시하기"
      ]
    },
    {
      "cell_type": "code",
      "metadata": {
        "id": "AADKMYChh3Y_"
      },
      "source": [
        "# 대전 중심에 map열기\n",
        "map = folium.Map(location=[36.351, 127.386], zoom_start=14)\n",
        "\n",
        "# 타슈의 상태에 따라서 Marker를 다른 색으로 표시하기\n",
        "detail_location = df.위치\n",
        "condition = df.상태정보\n",
        "\n",
        "for index_draw in range(1,len(condition)) :\n",
        "\n",
        "  if condition[index_draw] == '정상' :\n",
        "    folium.Marker([df.loc[index_draw, '위도'], df.loc[index_draw, '경도']],\n",
        "                  popup = '정상',\n",
        "                  icon = folium.Icon(color='blue', icon='info-sign')).add_to(map)\n",
        "  elif condition[index_draw] == 'Network 에러' :\n",
        "    folium.Marker([df.loc[index_draw, '위도'], df.loc[index_draw, '경도']],\n",
        "                  popup = '네트워크 에러',\n",
        "                  icon = folium.Icon(color='red', icon='info-sign')).add_to(map)\n",
        "  else:\n",
        "    folium.Marker([df.loc[index_draw, '위도'], df.loc[index_draw, '경도']],\n",
        "                  popup = '집',\n",
        "                  icon = folium.Icon(color='green', icon='info-sign')).add_to(map)    "
      ],
      "execution_count": 15,
      "outputs": []
    },
    {
      "cell_type": "code",
      "metadata": {
        "id": "ftt13D40k1nn"
      },
      "source": [
        "map"
      ],
      "execution_count": null,
      "outputs": []
    }
  ]
}