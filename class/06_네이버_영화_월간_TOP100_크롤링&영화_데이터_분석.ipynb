{
  "nbformat": 4,
  "nbformat_minor": 0,
  "metadata": {
    "colab": {
      "name": "06_네이버 영화 월간 TOP100 크롤링&영화 데이터 분석.ipynb",
      "provenance": [],
      "authorship_tag": "ABX9TyMxRrogmsYGbblRM9HLixEw",
      "include_colab_link": true
    },
    "kernelspec": {
      "name": "python3",
      "display_name": "Python 3"
    },
    "language_info": {
      "name": "python"
    }
  },
  "cells": [
    {
      "cell_type": "markdown",
      "metadata": {
        "id": "view-in-github",
        "colab_type": "text"
      },
      "source": [
        "<a href=\"https://colab.research.google.com/github/yeijSong/HandsOnDataAnalysis/blob/main/06_%EB%84%A4%EC%9D%B4%EB%B2%84_%EC%98%81%ED%99%94_%EC%9B%94%EA%B0%84_TOP100_%ED%81%AC%EB%A1%A4%EB%A7%81%26%EC%98%81%ED%99%94_%EB%8D%B0%EC%9D%B4%ED%84%B0_%EB%B6%84%EC%84%9D.ipynb\" target=\"_parent\"><img src=\"https://colab.research.google.com/assets/colab-badge.svg\" alt=\"Open In Colab\"/></a>"
      ]
    },
    {
      "cell_type": "markdown",
      "metadata": {
        "id": "OVcYehocnh5Y"
      },
      "source": [
        "### 네이버 영화 월간 TOP 100 데이터 크롤링하기"
      ]
    },
    {
      "cell_type": "markdown",
      "metadata": {
        "id": "0nMy1_I1npB2"
      },
      "source": [
        "라이브러리 설치"
      ]
    },
    {
      "cell_type": "code",
      "metadata": {
        "colab": {
          "base_uri": "https://localhost:8080/"
        },
        "id": "CddGgXxGijE6",
        "outputId": "fa4fdcb7-39ef-4cd4-8794-678da0aab77c"
      },
      "source": [
        "# 링크 수집을 위한 라이브러리 설치\n",
        "!pip install selenium"
      ],
      "execution_count": 1,
      "outputs": [
        {
          "output_type": "stream",
          "text": [
            "Collecting selenium\n",
            "\u001b[?25l  Downloading https://files.pythonhosted.org/packages/80/d6/4294f0b4bce4de0abf13e17190289f9d0613b0a44e5dd6a7f5ca98459853/selenium-3.141.0-py2.py3-none-any.whl (904kB)\n",
            "\r\u001b[K     |▍                               | 10kB 12.5MB/s eta 0:00:01\r\u001b[K     |▊                               | 20kB 17.3MB/s eta 0:00:01\r\u001b[K     |█                               | 30kB 21.3MB/s eta 0:00:01\r\u001b[K     |█▌                              | 40kB 23.2MB/s eta 0:00:01\r\u001b[K     |█▉                              | 51kB 19.3MB/s eta 0:00:01\r\u001b[K     |██▏                             | 61kB 12.3MB/s eta 0:00:01\r\u001b[K     |██▌                             | 71kB 11.7MB/s eta 0:00:01\r\u001b[K     |███                             | 81kB 10.9MB/s eta 0:00:01\r\u001b[K     |███▎                            | 92kB 11.6MB/s eta 0:00:01\r\u001b[K     |███▋                            | 102kB 12.0MB/s eta 0:00:01\r\u001b[K     |████                            | 112kB 12.0MB/s eta 0:00:01\r\u001b[K     |████▍                           | 122kB 12.0MB/s eta 0:00:01\r\u001b[K     |████▊                           | 133kB 12.0MB/s eta 0:00:01\r\u001b[K     |█████                           | 143kB 12.0MB/s eta 0:00:01\r\u001b[K     |█████▍                          | 153kB 12.0MB/s eta 0:00:01\r\u001b[K     |█████▉                          | 163kB 12.0MB/s eta 0:00:01\r\u001b[K     |██████▏                         | 174kB 12.0MB/s eta 0:00:01\r\u001b[K     |██████▌                         | 184kB 12.0MB/s eta 0:00:01\r\u001b[K     |██████▉                         | 194kB 12.0MB/s eta 0:00:01\r\u001b[K     |███████▎                        | 204kB 12.0MB/s eta 0:00:01\r\u001b[K     |███████▋                        | 215kB 12.0MB/s eta 0:00:01\r\u001b[K     |████████                        | 225kB 12.0MB/s eta 0:00:01\r\u001b[K     |████████▎                       | 235kB 12.0MB/s eta 0:00:01\r\u001b[K     |████████▊                       | 245kB 12.0MB/s eta 0:00:01\r\u001b[K     |█████████                       | 256kB 12.0MB/s eta 0:00:01\r\u001b[K     |█████████▍                      | 266kB 12.0MB/s eta 0:00:01\r\u001b[K     |█████████▉                      | 276kB 12.0MB/s eta 0:00:01\r\u001b[K     |██████████▏                     | 286kB 12.0MB/s eta 0:00:01\r\u001b[K     |██████████▌                     | 296kB 12.0MB/s eta 0:00:01\r\u001b[K     |██████████▉                     | 307kB 12.0MB/s eta 0:00:01\r\u001b[K     |███████████▎                    | 317kB 12.0MB/s eta 0:00:01\r\u001b[K     |███████████▋                    | 327kB 12.0MB/s eta 0:00:01\r\u001b[K     |████████████                    | 337kB 12.0MB/s eta 0:00:01\r\u001b[K     |████████████▎                   | 348kB 12.0MB/s eta 0:00:01\r\u001b[K     |████████████▊                   | 358kB 12.0MB/s eta 0:00:01\r\u001b[K     |█████████████                   | 368kB 12.0MB/s eta 0:00:01\r\u001b[K     |█████████████▍                  | 378kB 12.0MB/s eta 0:00:01\r\u001b[K     |█████████████▊                  | 389kB 12.0MB/s eta 0:00:01\r\u001b[K     |██████████████▏                 | 399kB 12.0MB/s eta 0:00:01\r\u001b[K     |██████████████▌                 | 409kB 12.0MB/s eta 0:00:01\r\u001b[K     |██████████████▉                 | 419kB 12.0MB/s eta 0:00:01\r\u001b[K     |███████████████▏                | 430kB 12.0MB/s eta 0:00:01\r\u001b[K     |███████████████▋                | 440kB 12.0MB/s eta 0:00:01\r\u001b[K     |████████████████                | 450kB 12.0MB/s eta 0:00:01\r\u001b[K     |████████████████▎               | 460kB 12.0MB/s eta 0:00:01\r\u001b[K     |████████████████▋               | 471kB 12.0MB/s eta 0:00:01\r\u001b[K     |█████████████████               | 481kB 12.0MB/s eta 0:00:01\r\u001b[K     |█████████████████▍              | 491kB 12.0MB/s eta 0:00:01\r\u001b[K     |█████████████████▊              | 501kB 12.0MB/s eta 0:00:01\r\u001b[K     |██████████████████▏             | 512kB 12.0MB/s eta 0:00:01\r\u001b[K     |██████████████████▌             | 522kB 12.0MB/s eta 0:00:01\r\u001b[K     |██████████████████▉             | 532kB 12.0MB/s eta 0:00:01\r\u001b[K     |███████████████████▏            | 542kB 12.0MB/s eta 0:00:01\r\u001b[K     |███████████████████▋            | 552kB 12.0MB/s eta 0:00:01\r\u001b[K     |████████████████████            | 563kB 12.0MB/s eta 0:00:01\r\u001b[K     |████████████████████▎           | 573kB 12.0MB/s eta 0:00:01\r\u001b[K     |████████████████████▋           | 583kB 12.0MB/s eta 0:00:01\r\u001b[K     |█████████████████████           | 593kB 12.0MB/s eta 0:00:01\r\u001b[K     |█████████████████████▍          | 604kB 12.0MB/s eta 0:00:01\r\u001b[K     |█████████████████████▊          | 614kB 12.0MB/s eta 0:00:01\r\u001b[K     |██████████████████████          | 624kB 12.0MB/s eta 0:00:01\r\u001b[K     |██████████████████████▌         | 634kB 12.0MB/s eta 0:00:01\r\u001b[K     |██████████████████████▉         | 645kB 12.0MB/s eta 0:00:01\r\u001b[K     |███████████████████████▏        | 655kB 12.0MB/s eta 0:00:01\r\u001b[K     |███████████████████████▌        | 665kB 12.0MB/s eta 0:00:01\r\u001b[K     |████████████████████████        | 675kB 12.0MB/s eta 0:00:01\r\u001b[K     |████████████████████████▎       | 686kB 12.0MB/s eta 0:00:01\r\u001b[K     |████████████████████████▋       | 696kB 12.0MB/s eta 0:00:01\r\u001b[K     |█████████████████████████       | 706kB 12.0MB/s eta 0:00:01\r\u001b[K     |█████████████████████████▍      | 716kB 12.0MB/s eta 0:00:01\r\u001b[K     |█████████████████████████▊      | 727kB 12.0MB/s eta 0:00:01\r\u001b[K     |██████████████████████████      | 737kB 12.0MB/s eta 0:00:01\r\u001b[K     |██████████████████████████▍     | 747kB 12.0MB/s eta 0:00:01\r\u001b[K     |██████████████████████████▉     | 757kB 12.0MB/s eta 0:00:01\r\u001b[K     |███████████████████████████▏    | 768kB 12.0MB/s eta 0:00:01\r\u001b[K     |███████████████████████████▌    | 778kB 12.0MB/s eta 0:00:01\r\u001b[K     |████████████████████████████    | 788kB 12.0MB/s eta 0:00:01\r\u001b[K     |████████████████████████████▎   | 798kB 12.0MB/s eta 0:00:01\r\u001b[K     |████████████████████████████▋   | 808kB 12.0MB/s eta 0:00:01\r\u001b[K     |█████████████████████████████   | 819kB 12.0MB/s eta 0:00:01\r\u001b[K     |█████████████████████████████▍  | 829kB 12.0MB/s eta 0:00:01\r\u001b[K     |█████████████████████████████▊  | 839kB 12.0MB/s eta 0:00:01\r\u001b[K     |██████████████████████████████  | 849kB 12.0MB/s eta 0:00:01\r\u001b[K     |██████████████████████████████▍ | 860kB 12.0MB/s eta 0:00:01\r\u001b[K     |██████████████████████████████▉ | 870kB 12.0MB/s eta 0:00:01\r\u001b[K     |███████████████████████████████▏| 880kB 12.0MB/s eta 0:00:01\r\u001b[K     |███████████████████████████████▌| 890kB 12.0MB/s eta 0:00:01\r\u001b[K     |███████████████████████████████▉| 901kB 12.0MB/s eta 0:00:01\r\u001b[K     |████████████████████████████████| 911kB 12.0MB/s \n",
            "\u001b[?25hRequirement already satisfied: urllib3 in /usr/local/lib/python3.7/dist-packages (from selenium) (1.24.3)\n",
            "Installing collected packages: selenium\n",
            "Successfully installed selenium-3.141.0\n"
          ],
          "name": "stdout"
        }
      ]
    },
    {
      "cell_type": "markdown",
      "metadata": {
        "id": "RiwjE2fyn1VH"
      },
      "source": [
        "라이브러리 임포트"
      ]
    },
    {
      "cell_type": "code",
      "metadata": {
        "id": "GAfPHzi6nxVt"
      },
      "source": [
        "from bs4 import BeautifulSoup\n",
        "import requests\n",
        "from selenium import webdriver as wd\n",
        "from selenium.webdriver.common.keys import Keys\n",
        "import time\n",
        "import re\n",
        "import pandas as pd "
      ],
      "execution_count": 2,
      "outputs": []
    },
    {
      "cell_type": "code",
      "metadata": {
        "colab": {
          "base_uri": "https://localhost:8080/"
        },
        "id": "g3kiOHptoNCO",
        "outputId": "111df416-14e6-47b7-ad1d-4017eb6eae02"
      },
      "source": [
        "# install chromium, its driver, and selenium\n",
        "!apt-get update\n",
        "!apt install chromium-chromedriver\n",
        "!cp /usr/lib/chromium-browser/chromedriver /usr/bin\n",
        "!pip install selenium\n",
        "# set options to be headless, ..\n",
        "from selenium import webdriver\n",
        "options = webdriver.ChromeOptions()\n",
        "options.add_argument('--headless')\n",
        "options.add_argument('--no-sandbox')\n",
        "options.add_argument('--disable-dev-shm-usage')\n",
        "\n",
        "driver = webdriver.Chrome('chromedriver',options=options)\n"
      ],
      "execution_count": 3,
      "outputs": [
        {
          "output_type": "stream",
          "text": [
            "\r0% [Working]\r            \rHit:1 http://ppa.launchpad.net/c2d4u.team/c2d4u4.0+/ubuntu bionic InRelease\n",
            "\r0% [Connecting to archive.ubuntu.com (91.189.88.152)] [Connecting to security.u\r                                                                               \rHit:2 http://archive.ubuntu.com/ubuntu bionic InRelease\n",
            "\r                                                                               \rGet:3 http://archive.ubuntu.com/ubuntu bionic-updates InRelease [88.7 kB]\n",
            "\r                                                                               \rHit:4 http://ppa.launchpad.net/cran/libgit2/ubuntu bionic InRelease\n",
            "\r                                                                               \rGet:5 http://ppa.launchpad.net/deadsnakes/ppa/ubuntu bionic InRelease [15.9 kB]\n",
            "\r0% [3 InRelease 47.5 kB/88.7 kB 54%] [Connecting to security.ubuntu.com (91.189\r0% [1 InRelease gpgv 15.9 kB] [3 InRelease 50.4 kB/88.7 kB 57%] [Connecting to \r0% [1 InRelease gpgv 15.9 kB] [Connecting to security.ubuntu.com (91.189.91.38)\r0% [1 InRelease gpgv 15.9 kB] [Waiting for headers] [Waiting for headers] [Wait\r                                                                               \rHit:6 https://cloud.r-project.org/bin/linux/ubuntu bionic-cran40/ InRelease\n",
            "\r0% [1 InRelease gpgv 15.9 kB] [Waiting for headers] [Waiting for headers] [Conn\r                                                                               \rGet:7 http://archive.ubuntu.com/ubuntu bionic-backports InRelease [74.6 kB]\n",
            "Get:8 http://ppa.launchpad.net/graphics-drivers/ppa/ubuntu bionic InRelease [21.3 kB]\n",
            "Get:9 http://security.ubuntu.com/ubuntu bionic-security InRelease [88.7 kB]\n",
            "Ign:10 https://developer.download.nvidia.com/compute/cuda/repos/ubuntu1804/x86_64  InRelease\n",
            "Ign:11 https://developer.download.nvidia.com/compute/machine-learning/repos/ubuntu1804/x86_64  InRelease\n",
            "Get:12 https://developer.download.nvidia.com/compute/cuda/repos/ubuntu1804/x86_64  Release [697 B]\n",
            "Hit:13 https://developer.download.nvidia.com/compute/machine-learning/repos/ubuntu1804/x86_64  Release\n",
            "Get:14 https://developer.download.nvidia.com/compute/cuda/repos/ubuntu1804/x86_64  Release.gpg [836 B]\n",
            "Get:15 http://archive.ubuntu.com/ubuntu bionic-updates/universe amd64 Packages [2,188 kB]\n",
            "Get:16 http://archive.ubuntu.com/ubuntu bionic-updates/main amd64 Packages [2,652 kB]\n",
            "Get:17 http://archive.ubuntu.com/ubuntu bionic-updates/restricted amd64 Packages [505 kB]\n",
            "Get:18 http://ppa.launchpad.net/deadsnakes/ppa/ubuntu bionic/main amd64 Packages [40.9 kB]\n",
            "Get:19 http://ppa.launchpad.net/graphics-drivers/ppa/ubuntu bionic/main amd64 Packages [41.5 kB]\n",
            "Get:20 http://security.ubuntu.com/ubuntu bionic-security/restricted amd64 Packages [473 kB]\n",
            "Get:22 http://security.ubuntu.com/ubuntu bionic-security/main amd64 Packages [2,219 kB]\n",
            "Get:23 http://security.ubuntu.com/ubuntu bionic-security/universe amd64 Packages [1,418 kB]\n",
            "Ign:24 https://developer.download.nvidia.com/compute/cuda/repos/ubuntu1804/x86_64  Packages\n",
            "Get:24 https://developer.download.nvidia.com/compute/cuda/repos/ubuntu1804/x86_64  Packages [599 kB]\n",
            "Fetched 10.4 MB in 4s (2,693 kB/s)\n",
            "Reading package lists... Done\n",
            "Reading package lists... Done\n",
            "Building dependency tree       \n",
            "Reading state information... Done\n",
            "The following additional packages will be installed:\n",
            "  chromium-browser chromium-browser-l10n chromium-codecs-ffmpeg-extra\n",
            "Suggested packages:\n",
            "  webaccounts-chromium-extension unity-chromium-extension\n",
            "The following NEW packages will be installed:\n",
            "  chromium-browser chromium-browser-l10n chromium-chromedriver\n",
            "  chromium-codecs-ffmpeg-extra\n",
            "0 upgraded, 4 newly installed, 0 to remove and 70 not upgraded.\n",
            "Need to get 86.0 MB of archives.\n",
            "After this operation, 298 MB of additional disk space will be used.\n",
            "Get:1 http://archive.ubuntu.com/ubuntu bionic-updates/universe amd64 chromium-codecs-ffmpeg-extra amd64 91.0.4472.101-0ubuntu0.18.04.1 [1,124 kB]\n",
            "Get:2 http://archive.ubuntu.com/ubuntu bionic-updates/universe amd64 chromium-browser amd64 91.0.4472.101-0ubuntu0.18.04.1 [76.1 MB]\n",
            "Get:3 http://archive.ubuntu.com/ubuntu bionic-updates/universe amd64 chromium-browser-l10n all 91.0.4472.101-0ubuntu0.18.04.1 [3,937 kB]\n",
            "Get:4 http://archive.ubuntu.com/ubuntu bionic-updates/universe amd64 chromium-chromedriver amd64 91.0.4472.101-0ubuntu0.18.04.1 [4,837 kB]\n",
            "Fetched 86.0 MB in 2s (46.4 MB/s)\n",
            "Selecting previously unselected package chromium-codecs-ffmpeg-extra.\n",
            "(Reading database ... 160772 files and directories currently installed.)\n",
            "Preparing to unpack .../chromium-codecs-ffmpeg-extra_91.0.4472.101-0ubuntu0.18.04.1_amd64.deb ...\n",
            "Unpacking chromium-codecs-ffmpeg-extra (91.0.4472.101-0ubuntu0.18.04.1) ...\n",
            "Selecting previously unselected package chromium-browser.\n",
            "Preparing to unpack .../chromium-browser_91.0.4472.101-0ubuntu0.18.04.1_amd64.deb ...\n",
            "Unpacking chromium-browser (91.0.4472.101-0ubuntu0.18.04.1) ...\n",
            "Selecting previously unselected package chromium-browser-l10n.\n",
            "Preparing to unpack .../chromium-browser-l10n_91.0.4472.101-0ubuntu0.18.04.1_all.deb ...\n",
            "Unpacking chromium-browser-l10n (91.0.4472.101-0ubuntu0.18.04.1) ...\n",
            "Selecting previously unselected package chromium-chromedriver.\n",
            "Preparing to unpack .../chromium-chromedriver_91.0.4472.101-0ubuntu0.18.04.1_amd64.deb ...\n",
            "Unpacking chromium-chromedriver (91.0.4472.101-0ubuntu0.18.04.1) ...\n",
            "Setting up chromium-codecs-ffmpeg-extra (91.0.4472.101-0ubuntu0.18.04.1) ...\n",
            "Setting up chromium-browser (91.0.4472.101-0ubuntu0.18.04.1) ...\n",
            "update-alternatives: using /usr/bin/chromium-browser to provide /usr/bin/x-www-browser (x-www-browser) in auto mode\n",
            "update-alternatives: using /usr/bin/chromium-browser to provide /usr/bin/gnome-www-browser (gnome-www-browser) in auto mode\n",
            "Setting up chromium-chromedriver (91.0.4472.101-0ubuntu0.18.04.1) ...\n",
            "Setting up chromium-browser-l10n (91.0.4472.101-0ubuntu0.18.04.1) ...\n",
            "Processing triggers for man-db (2.8.3-2ubuntu0.1) ...\n",
            "Processing triggers for hicolor-icon-theme (0.17-2) ...\n",
            "Processing triggers for mime-support (3.60ubuntu1) ...\n",
            "Processing triggers for libc-bin (2.27-3ubuntu1.2) ...\n",
            "/sbin/ldconfig.real: /usr/local/lib/python3.7/dist-packages/ideep4py/lib/libmkldnn.so.0 is not a symbolic link\n",
            "\n",
            "cp: '/usr/lib/chromium-browser/chromedriver' and '/usr/bin/chromedriver' are the same file\n",
            "Requirement already satisfied: selenium in /usr/local/lib/python3.7/dist-packages (3.141.0)\n",
            "Requirement already satisfied: urllib3 in /usr/local/lib/python3.7/dist-packages (from selenium) (1.24.3)\n"
          ],
          "name": "stdout"
        }
      ]
    },
    {
      "cell_type": "markdown",
      "metadata": {
        "id": "dhIOaqGdrw9a"
      },
      "source": [
        "**분석할 데이터 모으기(크롤링)**"
      ]
    },
    {
      "cell_type": "markdown",
      "metadata": {
        "id": "kFU_suBKr1eH"
      },
      "source": [
        "네이버 영화 TOP100 페이지별 링크 수집"
      ]
    },
    {
      "cell_type": "code",
      "metadata": {
        "id": "Ky239ZjTr07i"
      },
      "source": [
        "# https://serieson.naver.com/movie/top100List.nhn?&rankingTypeCode=PC_R&page=(1,5) 실시간\n",
        "# https://serieson.naver.com/movie/top100List.nhn?&rankingTypeCode=PC_D&page=(1,5) 일간\n",
        "# https://serieson.naver.com/movie/top100List.nhn?&rankingTypeCode=PC_W&page=(1,5) 주간\n",
        "# https://serieson.naver.com/movie/top100List.nhn?&rankingTypeCode=PC_M&page=(1,5) 월간\n",
        "\n",
        "def getPageLinksWantRange(startPageNo, lastPageNo) :\n",
        "  links = [] # 100개의 영화링크를 수집할 리스트 변수 선언\n",
        "  \n",
        "  for pageNo in range(startPageNo-1, lastPageNo) :\n",
        "    # 실시간 TOP 100 영화 링크 수집\n",
        "    url = 'https://serieson.naver.com/movie/top100List.nhn?&rankingTypeCode=PC_M&page=' + str(pageNo+1)\n",
        "\n",
        "    req = requests.get(url) # 페이지 접속\n",
        "    soup = BeautifulSoup(req.text, 'lxml')\n",
        "    # html 파싱(원하는 위치에 있는 값을 찾아줌)을 위한 객체 생성, 불러올 데이터 정보가 lxml형식이다\n",
        "    movielinks = soup.select('div.lst_thum_wrap ul li a[href]')\n",
        "    # 해당페이지의 페이지소스 중 378line 확인\n",
        "    # <div class=\"lst_thum_wrap\"> -> <ul> -> <li> -> <a href =\"\">\n",
        "    # div 일종의 박스, 여기 안에 무슨 정보를 넣을 거다\n",
        "    # ul(반복되는 정보) 안에 li가 들어있다(주로 그렇기 때문에 세트로 생각하면 좋다)\n",
        "\n",
        "    # movielinks의 링크는 완전한 형태의 링크가 아니기 때문에 부족한 앞부분을 채워 완전한 링크를 만들어줘야함\n",
        "\n",
        "    for movielink in movielinks :\n",
        "      link = str(movielink.get('href'))\n",
        "\n",
        "      links.append(\"https://series.naver.com\" + link) # 접속가능한 전체링크 형태로 변환하여 links 리스트에 넣어줌\n",
        "      \n",
        "  return links\n"
      ],
      "execution_count": 4,
      "outputs": []
    },
    {
      "cell_type": "markdown",
      "metadata": {
        "id": "zZOQRGrsya35"
      },
      "source": [
        "네이버 실시간 TOP100 영화 제목, 평점, 장르, 줄거리 크롤링"
      ]
    },
    {
      "cell_type": "code",
      "metadata": {
        "id": "tONTqQcyx5u8"
      },
      "source": [
        "def getMovieDataFromNaverSeries(links):\n",
        "  title_infos = [] # 제목\n",
        "  content_infos = [] # 줄거리\n",
        "  genre_infos = [] # 장르\n",
        "  score_infos = [] # 평점\n",
        "  date_infos = [] # 개봉일\n",
        "\n",
        "  url2 = \"https://www.naver.com\"\n",
        "  # 원하는 링크로 지속적으로 바로 들어가면 해당 사이트에서 비정상적인 접근으로 인식하여 내 IP차단할 가능성 있음\n",
        "  \n",
        "  driver = webdriver.Chrome('chromedriver', options=options) # 나 대신 링크에 들어갈 드라이버 생성\n",
        "  driver.get(url2)\n",
        "  time.sleep(3.0) # 3초 정도 sleep(사람이 진짜 보는 것처럼 인식하도록)\n",
        "\n",
        "  driver.find_element_by_css_selector('body').send_keys(Keys.CONTROL + 't')\n",
        "  # 새 창을 열어서 해당 링크로 가게끔하여 사람처럼 느끼도록\n",
        "\n",
        "  for link in links:\n",
        "    print(link + '수집중......')\n",
        "\n",
        "    driver.switch_to.window(driver.window_handles[-1]) \n",
        "    \n",
        "    time.sleep(0.1)\n",
        "    driver.get(link)\n",
        "    time.sleep(0.1)\n",
        "    driver.switch_to.window(driver.window_handles[0])\n",
        "    # 새창 활성화(새 탭이 열린 것을 클릭하여 들어갈 수 있도록)\n",
        "    time.sleep(3.0)\n",
        "\n",
        "    html_source = driver.page_source # req.text와 같은 동작\n",
        "    html_soup = BeautifulSoup(html_source, 'lxml')\n",
        "\n",
        "    # 청소년 관람불가 영화 크롤링시, 연령인증위한 로그인을 하라고 하니 수집에서 제외시킴\n",
        "    flag = html_soup.text[0:10] # 이 부분을 확인하면 로그인 화면인지 알 수 있음\n",
        "    \n",
        "    newflag= ''.join(flag)\n",
        "    newflag= newflag.replace('\\n','')\n",
        "\n",
        "    if newflag == '네이버' :\n",
        "      time.sleep(1.0)\n",
        "\n",
        "      # 평점 수집\n",
        "      score = driver.find_element_by_css_selector('div.score_area > em')\n",
        "      score = float(score.text)\n",
        "      score = int(score)\n",
        "      score_infos.append(score)\n",
        "      print(score)\n",
        "\n",
        "      # 장르 수집\n",
        "      genre = driver.find_element_by_css_selector('li.info_lst > ul > li:nth-child(4)').get_attribute('textContent') # 정보들 중에 텍스트로 된 것만 가져와 (장르, 장르명) 두 가지가 들어올 예정임\n",
        "      genre = genre.replace('장르','')\n",
        "      genre = genre.replace('\\n','')\n",
        "      genre = genre.replace('\\t','')\n",
        "      genre_infos.append(genre)\n",
        "\n",
        "      # 제목, 줄거리, 개봉일\n",
        "      \n",
        "      try :\n",
        "        movieinfoUrl = driver.find_element_by_css_selector('li.info_lst > ul > li:nth-child(7) > a').get_attribute('href')\n",
        "      except :\n",
        "        movieinfoUrl = driver.find_element_by_css_selector('li.info_lst > ul > li:nth-child(6) > a').get_attribute('href')\n",
        "\n",
        "      # 영와 상세보기 페이지로 이동\n",
        "      movie_req = requests.get(movieinfoUrl)\n",
        "\n",
        "      # 제목 수집\n",
        "      movie_soup = BeautifulSoup(movie_req.text, 'lxml')\n",
        "      title = movie_soup.head.find('meta',{'property':'og:title'}).get('content')\n",
        "      title_infos.append(title)\n",
        "\n",
        "      # 줄거리 수집\n",
        "      contents_texts = movie_soup.select('div.story_area > p.con_tx')\n",
        "\n",
        "      if len(contents_texts) == 0 :\n",
        "        content_infos.append('줄거리 오류')\n",
        "\n",
        "      else :\n",
        "        for contents in contents_texts:\n",
        "          # 줄거리 데이터 클렌징 작업\n",
        "          temp = contents.text\n",
        "          temp = temp.replace('\\r','') # 줄바꿈 제거\n",
        "          temp = temp.replace('\\xa0','') # 공백 제거\n",
        "          content_infos.append(temp)\n",
        "\n",
        "    elif newflag == '' :\n",
        "      print('청소년 관람불가 영화로 데이터를 수집하지 않습니다.')\n",
        "  \n",
        "  print('수집을 완료합니다.')\n",
        "  print(len(score_infos), len(genre_infos), len(content_infos))\n",
        "  driver.close()\n",
        "  \n",
        "  # 수집한 영화정보들을 하나의 파일로 만들기 위해 딕셔너리에 넣어줌\n",
        "  movie_dic = {'제목' : title_infos, '평점' : score_infos, '장르' : genre_infos, '줄거리' : content_infos}\n",
        "  \n",
        "  # 딕셔너리 -> DataFrame\n",
        "  movie_df = pd.DataFrame(movie_dic)\n",
        "  \n",
        "  # 수집된 정보 중에 중복 데이터 삭제(줄거리를 비교하여 첫번째 수집 영화데이터만 남기고 삭제)\n",
        "  movie_df2 = movie_df.drop_duplicates('줄거리', keep='first')\n",
        "\n",
        "  return movie_df2"
      ],
      "execution_count": 5,
      "outputs": []
    },
    {
      "cell_type": "markdown",
      "metadata": {
        "id": "33Khto0OypOD"
      },
      "source": [
        "CSV파일로 저장"
      ]
    },
    {
      "cell_type": "code",
      "metadata": {
        "id": "s9nChAp9KlQY"
      },
      "source": [
        "def dftoCsv(movie_df, num):\n",
        "  try:\n",
        "    movie_df.to_csv(('movie_my_date_'+str(num)+'.csv'),\n",
        "                    sep=',',\n",
        "                    na_rep='NaN',\n",
        "                    encoding='euc-kr')\n",
        "  except:\n",
        "    print('Error')"
      ],
      "execution_count": 6,
      "outputs": []
    },
    {
      "cell_type": "markdown",
      "metadata": {
        "id": "twt3yyxWMO7z"
      },
      "source": [
        "크롤링 실행"
      ]
    },
    {
      "cell_type": "code",
      "metadata": {
        "colab": {
          "base_uri": "https://localhost:8080/"
        },
        "id": "jYmDWVLCLdfv",
        "outputId": "826d53bb-81a3-4a39-df0a-7c21cd5fd25a"
      },
      "source": [
        "#1) 크롤링 할 링크 수집\n",
        "\n",
        "links = getPageLinksWantRange(1,5)\n",
        "\n",
        "#2) 영화 상세정보 수집\n",
        "movie_df2 = getMovieDataFromNaverSeries(links)\n",
        "\n",
        "#3) csv파일 저장\n",
        "dftoCsv(movie_df2, len(movie_df2))\n"
      ],
      "execution_count": 7,
      "outputs": [
        {
          "output_type": "stream",
          "text": [
            "https://series.naver.com/movie/detail.nhn?productNo=6119777수집중......\n",
            "7\n",
            "https://series.naver.com/movie/detail.nhn?productNo=6176165수집중......\n",
            "8\n",
            "https://series.naver.com/movie/detail.nhn?productNo=6158879수집중......\n",
            "9\n",
            "https://series.naver.com/movie/detail.nhn?productNo=6098871수집중......\n",
            "9\n",
            "https://series.naver.com/movie/detail.nhn?productNo=6023769수집중......\n",
            "9\n",
            "https://series.naver.com/movie/detail.nhn?productNo=6139377수집중......\n",
            "8\n",
            "https://series.naver.com/movie/detail.nhn?productNo=6139375수집중......\n",
            "9\n",
            "https://series.naver.com/movie/detail.nhn?productNo=6119778수집중......\n",
            "7\n",
            "https://series.naver.com/movie/detail.nhn?productNo=4356726수집중......\n",
            "9\n",
            "https://series.naver.com/movie/detail.nhn?productNo=6176518수집중......\n",
            "청소년 관람불가 영화로 데이터를 수집하지 않습니다.\n",
            "https://series.naver.com/movie/detail.nhn?productNo=3293948수집중......\n",
            "청소년 관람불가 영화로 데이터를 수집하지 않습니다.\n",
            "https://series.naver.com/movie/detail.nhn?productNo=6039515수집중......\n",
            "0\n",
            "https://series.naver.com/movie/detail.nhn?productNo=6176542수집중......\n",
            "8\n",
            "https://series.naver.com/movie/detail.nhn?productNo=1965132수집중......\n",
            "청소년 관람불가 영화로 데이터를 수집하지 않습니다.\n",
            "https://series.naver.com/movie/detail.nhn?productNo=1808511수집중......\n",
            "9\n",
            "https://series.naver.com/movie/detail.nhn?productNo=6176166수집중......\n",
            "8\n",
            "https://series.naver.com/movie/detail.nhn?productNo=2747742수집중......\n",
            "8\n",
            "https://series.naver.com/movie/detail.nhn?productNo=4475562수집중......\n",
            "7\n",
            "https://series.naver.com/movie/detail.nhn?productNo=5751044수집중......\n",
            "8\n",
            "https://series.naver.com/movie/detail.nhn?productNo=5843892수집중......\n",
            "8\n",
            "https://series.naver.com/movie/detail.nhn?productNo=2822635수집중......\n",
            "청소년 관람불가 영화로 데이터를 수집하지 않습니다.\n",
            "https://series.naver.com/movie/detail.nhn?productNo=6176543수집중......\n",
            "8\n",
            "https://series.naver.com/movie/detail.nhn?productNo=5607754수집중......\n",
            "8\n",
            "https://series.naver.com/movie/detail.nhn?productNo=1729987수집중......\n",
            "청소년 관람불가 영화로 데이터를 수집하지 않습니다.\n",
            "https://series.naver.com/movie/detail.nhn?productNo=4579842수집중......\n",
            "8\n",
            "https://series.naver.com/movie/detail.nhn?productNo=2790610수집중......\n",
            "8\n",
            "https://series.naver.com/movie/detail.nhn?productNo=1373317수집중......\n",
            "청소년 관람불가 영화로 데이터를 수집하지 않습니다.\n",
            "https://series.naver.com/movie/detail.nhn?productNo=552985수집중......\n",
            "청소년 관람불가 영화로 데이터를 수집하지 않습니다.\n",
            "https://series.naver.com/movie/detail.nhn?productNo=6189997수집중......\n",
            "7\n",
            "https://series.naver.com/movie/detail.nhn?productNo=5009512수집중......\n",
            "8\n",
            "https://series.naver.com/movie/detail.nhn?productNo=4465876수집중......\n",
            "7\n",
            "https://series.naver.com/movie/detail.nhn?productNo=1781025수집중......\n",
            "9\n",
            "https://series.naver.com/movie/detail.nhn?productNo=4508244수집중......\n",
            "9\n",
            "https://series.naver.com/movie/detail.nhn?productNo=6147667수집중......\n",
            "8\n",
            "https://series.naver.com/movie/detail.nhn?productNo=1049059수집중......\n",
            "8\n",
            "https://series.naver.com/movie/detail.nhn?productNo=1126516수집중......\n",
            "8\n",
            "https://series.naver.com/movie/detail.nhn?productNo=2968150수집중......\n",
            "청소년 관람불가 영화로 데이터를 수집하지 않습니다.\n",
            "https://series.naver.com/movie/detail.nhn?productNo=3400212수집중......\n",
            "7\n",
            "https://series.naver.com/movie/detail.nhn?productNo=2166247수집중......\n",
            "청소년 관람불가 영화로 데이터를 수집하지 않습니다.\n",
            "https://series.naver.com/movie/detail.nhn?productNo=977821수집중......\n",
            "8\n",
            "https://series.naver.com/movie/detail.nhn?productNo=6189996수집중......\n",
            "7\n",
            "https://series.naver.com/movie/detail.nhn?productNo=3318482수집중......\n",
            "청소년 관람불가 영화로 데이터를 수집하지 않습니다.\n",
            "https://series.naver.com/movie/detail.nhn?productNo=6143439수집중......\n",
            "9\n",
            "https://series.naver.com/movie/detail.nhn?productNo=6139376수집중......\n",
            "9\n",
            "https://series.naver.com/movie/detail.nhn?productNo=3100069수집중......\n",
            "9\n",
            "https://series.naver.com/movie/detail.nhn?productNo=2441904수집중......\n",
            "8\n",
            "https://series.naver.com/movie/detail.nhn?productNo=1537164수집중......\n",
            "청소년 관람불가 영화로 데이터를 수집하지 않습니다.\n",
            "https://series.naver.com/movie/detail.nhn?productNo=4695510수집중......\n",
            "청소년 관람불가 영화로 데이터를 수집하지 않습니다.\n",
            "https://series.naver.com/movie/detail.nhn?productNo=585441수집중......\n",
            "9\n",
            "https://series.naver.com/movie/detail.nhn?productNo=3448644수집중......\n",
            "8\n",
            "https://series.naver.com/movie/detail.nhn?productNo=2787777수집중......\n",
            "청소년 관람불가 영화로 데이터를 수집하지 않습니다.\n",
            "https://series.naver.com/movie/detail.nhn?productNo=3744353수집중......\n",
            "9\n",
            "https://series.naver.com/movie/detail.nhn?productNo=1775085수집중......\n",
            "청소년 관람불가 영화로 데이터를 수집하지 않습니다.\n",
            "https://series.naver.com/movie/detail.nhn?productNo=3532815수집중......\n",
            "8\n",
            "https://series.naver.com/movie/detail.nhn?productNo=5778853수집중......\n",
            "7\n",
            "https://series.naver.com/movie/detail.nhn?productNo=3593762수집중......\n",
            "8\n",
            "https://series.naver.com/movie/detail.nhn?productNo=1798015수집중......\n",
            "7\n",
            "https://series.naver.com/movie/detail.nhn?productNo=3843473수집중......\n",
            "7\n",
            "https://series.naver.com/movie/detail.nhn?productNo=977825수집중......\n",
            "8\n",
            "https://series.naver.com/movie/detail.nhn?productNo=3241116수집중......\n",
            "9\n",
            "https://series.naver.com/movie/detail.nhn?productNo=6112492수집중......\n",
            "0\n",
            "https://series.naver.com/movie/detail.nhn?productNo=5110441수집중......\n",
            "청소년 관람불가 영화로 데이터를 수집하지 않습니다.\n",
            "https://series.naver.com/movie/detail.nhn?productNo=5156470수집중......\n",
            "8\n",
            "https://series.naver.com/movie/detail.nhn?productNo=2686058수집중......\n",
            "청소년 관람불가 영화로 데이터를 수집하지 않습니다.\n",
            "https://series.naver.com/movie/detail.nhn?productNo=1798013수집중......\n",
            "8\n",
            "https://series.naver.com/movie/detail.nhn?productNo=6158864수집중......\n",
            "0\n",
            "https://series.naver.com/movie/detail.nhn?productNo=2909332수집중......\n",
            "8\n",
            "https://series.naver.com/movie/detail.nhn?productNo=412868수집중......\n",
            "9\n",
            "https://series.naver.com/movie/detail.nhn?productNo=6210977수집중......\n",
            "9\n",
            "https://series.naver.com/movie/detail.nhn?productNo=3946722수집중......\n",
            "청소년 관람불가 영화로 데이터를 수집하지 않습니다.\n",
            "https://series.naver.com/movie/detail.nhn?productNo=6225301수집중......\n",
            "6\n",
            "https://series.naver.com/movie/detail.nhn?productNo=5482161수집중......\n",
            "7\n",
            "https://series.naver.com/movie/detail.nhn?productNo=1849600수집중......\n",
            "청소년 관람불가 영화로 데이터를 수집하지 않습니다.\n",
            "https://series.naver.com/movie/detail.nhn?productNo=2284790수집중......\n",
            "8\n",
            "https://series.naver.com/movie/detail.nhn?productNo=4406203수집중......\n",
            "청소년 관람불가 영화로 데이터를 수집하지 않습니다.\n",
            "https://series.naver.com/movie/detail.nhn?productNo=3478547수집중......\n",
            "9\n",
            "https://series.naver.com/movie/detail.nhn?productNo=5023130수집중......\n",
            "청소년 관람불가 영화로 데이터를 수집하지 않습니다.\n",
            "https://series.naver.com/movie/detail.nhn?productNo=4581368수집중......\n",
            "청소년 관람불가 영화로 데이터를 수집하지 않습니다.\n",
            "https://series.naver.com/movie/detail.nhn?productNo=4021296수집중......\n",
            "9\n",
            "https://series.naver.com/movie/detail.nhn?productNo=1405968수집중......\n",
            "청소년 관람불가 영화로 데이터를 수집하지 않습니다.\n",
            "https://series.naver.com/movie/detail.nhn?productNo=2133611수집중......\n",
            "8\n",
            "https://series.naver.com/movie/detail.nhn?productNo=4821120수집중......\n",
            "8\n",
            "https://series.naver.com/movie/detail.nhn?productNo=2015025수집중......\n",
            "9\n",
            "https://series.naver.com/movie/detail.nhn?productNo=1605628수집중......\n",
            "8\n",
            "https://series.naver.com/movie/detail.nhn?productNo=2118078수집중......\n",
            "4\n",
            "https://series.naver.com/movie/detail.nhn?productNo=3241117수집중......\n",
            "9\n",
            "https://series.naver.com/movie/detail.nhn?productNo=6063434수집중......\n",
            "7\n",
            "https://series.naver.com/movie/detail.nhn?productNo=6147086수집중......\n",
            "8\n",
            "https://series.naver.com/movie/detail.nhn?productNo=5404435수집중......\n",
            "9\n",
            "https://series.naver.com/movie/detail.nhn?productNo=1787179수집중......\n",
            "9\n",
            "https://series.naver.com/movie/detail.nhn?productNo=3262026수집중......\n",
            "9\n",
            "https://series.naver.com/movie/detail.nhn?productNo=3285301수집중......\n",
            "7\n",
            "https://series.naver.com/movie/detail.nhn?productNo=442567수집중......\n",
            "6\n",
            "https://series.naver.com/movie/detail.nhn?productNo=3239240수집중......\n",
            "9\n",
            "https://series.naver.com/movie/detail.nhn?productNo=2956707수집중......\n",
            "청소년 관람불가 영화로 데이터를 수집하지 않습니다.\n",
            "https://series.naver.com/movie/detail.nhn?productNo=4821119수집중......\n",
            "8\n",
            "https://series.naver.com/movie/detail.nhn?productNo=1402314수집중......\n",
            "9\n",
            "https://series.naver.com/movie/detail.nhn?productNo=475495수집중......\n",
            "8\n",
            "https://series.naver.com/movie/detail.nhn?productNo=412869수집중......\n",
            "8\n",
            "https://series.naver.com/movie/detail.nhn?productNo=5991457수집중......\n",
            "5\n",
            "수집을 완료합니다.\n",
            "77 77 77\n"
          ],
          "name": "stdout"
        }
      ]
    }
  ]
}
