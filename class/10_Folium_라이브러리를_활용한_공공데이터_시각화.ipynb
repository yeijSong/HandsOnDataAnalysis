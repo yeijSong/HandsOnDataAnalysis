{
  "nbformat": 4,
  "nbformat_minor": 0,
  "metadata": {
    "colab": {
      "name": "10_Folium 라이브러리를 활용한 공공데이터 시각화.ipynb",
      "provenance": [],
      "authorship_tag": "ABX9TyNlLGbqBuMFqg8VQYnptk/8",
      "include_colab_link": true
    },
    "kernelspec": {
      "name": "python3",
      "display_name": "Python 3"
    },
    "language_info": {
      "name": "python"
    }
  },
  "cells": [
    {
      "cell_type": "markdown",
      "metadata": {
        "id": "view-in-github",
        "colab_type": "text"
      },
      "source": [
        "<a href=\"https://colab.research.google.com/github/yeijSong/HandsOnDataAnalysis/blob/main/class/10_Folium_%EB%9D%BC%EC%9D%B4%EB%B8%8C%EB%9F%AC%EB%A6%AC%EB%A5%BC_%ED%99%9C%EC%9A%A9%ED%95%9C_%EA%B3%B5%EA%B3%B5%EB%8D%B0%EC%9D%B4%ED%84%B0_%EC%8B%9C%EA%B0%81%ED%99%94.ipynb\" target=\"_parent\"><img src=\"https://colab.research.google.com/assets/colab-badge.svg\" alt=\"Open In Colab\"/></a>"
      ]
    },
    {
      "cell_type": "markdown",
      "metadata": {
        "id": "xEIxl8dgIWEj"
      },
      "source": [
        "### 세종시 공공자전거 어울링 데이터 분석"
      ]
    },
    {
      "cell_type": "markdown",
      "metadata": {
        "id": "Ahjr2DgcweM1"
      },
      "source": [
        "자전거 대여소 공공데이터 준비하기"
      ]
    },
    {
      "cell_type": "code",
      "metadata": {
        "colab": {
          "base_uri": "https://localhost:8080/",
          "height": 204
        },
        "id": "-vQeihZQuM4p",
        "outputId": "9272c40e-f230-447e-fb11-cac2fc655957"
      },
      "source": [
        "# 1) pandas선언\n",
        "import pandas as pd\n",
        "\n",
        "# 2) csv파일 불러오기\n",
        "df = pd.read_csv('/content/세종특별자치시_공영자전거 어울링 대여소_20200915.csv', encoding='cp949')\n",
        "df.head()"
      ],
      "execution_count": 1,
      "outputs": [
        {
          "output_type": "execute_result",
          "data": {
            "text/html": [
              "<div>\n",
              "<style scoped>\n",
              "    .dataframe tbody tr th:only-of-type {\n",
              "        vertical-align: middle;\n",
              "    }\n",
              "\n",
              "    .dataframe tbody tr th {\n",
              "        vertical-align: top;\n",
              "    }\n",
              "\n",
              "    .dataframe thead th {\n",
              "        text-align: right;\n",
              "    }\n",
              "</style>\n",
              "<table border=\"1\" class=\"dataframe\">\n",
              "  <thead>\n",
              "    <tr style=\"text-align: right;\">\n",
              "      <th></th>\n",
              "      <th>STATION_ID</th>\n",
              "      <th>STATION_NM</th>\n",
              "      <th>AREA</th>\n",
              "      <th>GU</th>\n",
              "      <th>DONG</th>\n",
              "      <th>ADDR1</th>\n",
              "      <th>ADDR2</th>\n",
              "      <th>LOCKER</th>\n",
              "      <th>Y_POS</th>\n",
              "      <th>X_POS</th>\n",
              "    </tr>\n",
              "  </thead>\n",
              "  <tbody>\n",
              "    <tr>\n",
              "      <th>0</th>\n",
              "      <td>1</td>\n",
              "      <td>첫마을 1단지</td>\n",
              "      <td>1생활권</td>\n",
              "      <td>세종</td>\n",
              "      <td>한솔동</td>\n",
              "      <td>세종특별자치시 한솔동 168-38</td>\n",
              "      <td>NaN</td>\n",
              "      <td>13</td>\n",
              "      <td>36.482114</td>\n",
              "      <td>127.259628</td>\n",
              "    </tr>\n",
              "    <tr>\n",
              "      <th>1</th>\n",
              "      <td>2</td>\n",
              "      <td>첫마을 3단지</td>\n",
              "      <td>1생활권</td>\n",
              "      <td>세종</td>\n",
              "      <td>한솔동</td>\n",
              "      <td>세종특별자치시 한솔동 168-66</td>\n",
              "      <td>NaN</td>\n",
              "      <td>15</td>\n",
              "      <td>36.479850</td>\n",
              "      <td>127.260513</td>\n",
              "    </tr>\n",
              "    <tr>\n",
              "      <th>2</th>\n",
              "      <td>3</td>\n",
              "      <td>첫마을  4단지</td>\n",
              "      <td>1생활권</td>\n",
              "      <td>세종</td>\n",
              "      <td>한솔동</td>\n",
              "      <td>세종특별자치시 한솔동 산 2</td>\n",
              "      <td>NaN</td>\n",
              "      <td>15</td>\n",
              "      <td>36.480436</td>\n",
              "      <td>127.253314</td>\n",
              "    </tr>\n",
              "    <tr>\n",
              "      <th>3</th>\n",
              "      <td>4</td>\n",
              "      <td>LH세종특별본부</td>\n",
              "      <td>2생활권</td>\n",
              "      <td>세종</td>\n",
              "      <td>어진동</td>\n",
              "      <td>세종특별자치시 어진동 178-286</td>\n",
              "      <td>NaN</td>\n",
              "      <td>15</td>\n",
              "      <td>36.495484</td>\n",
              "      <td>127.266063</td>\n",
              "    </tr>\n",
              "    <tr>\n",
              "      <th>4</th>\n",
              "      <td>5</td>\n",
              "      <td>한솔동 주민센터</td>\n",
              "      <td>1생활권</td>\n",
              "      <td>세종</td>\n",
              "      <td>한솔동</td>\n",
              "      <td>세종특별자치시 한솔동 산 6</td>\n",
              "      <td>NaN</td>\n",
              "      <td>14</td>\n",
              "      <td>36.478979</td>\n",
              "      <td>127.255524</td>\n",
              "    </tr>\n",
              "  </tbody>\n",
              "</table>\n",
              "</div>"
            ],
            "text/plain": [
              "   STATION_ID STATION_NM  AREA  GU  ... ADDR2 LOCKER      Y_POS       X_POS\n",
              "0           1    첫마을 1단지  1생활권  세종  ...   NaN     13  36.482114  127.259628\n",
              "1           2    첫마을 3단지  1생활권  세종  ...   NaN     15  36.479850  127.260513\n",
              "2           3   첫마을  4단지  1생활권  세종  ...   NaN     15  36.480436  127.253314\n",
              "3           4   LH세종특별본부  2생활권  세종  ...   NaN     15  36.495484  127.266063\n",
              "4           5   한솔동 주민센터  1생활권  세종  ...   NaN     14  36.478979  127.255524\n",
              "\n",
              "[5 rows x 10 columns]"
            ]
          },
          "metadata": {
            "tags": []
          },
          "execution_count": 1
        }
      ]
    },
    {
      "cell_type": "code",
      "metadata": {
        "colab": {
          "base_uri": "https://localhost:8080/"
        },
        "id": "ypCgGt5hw1bm",
        "outputId": "b84dd57f-3f6f-4463-cf82-3977ef9bfd55"
      },
      "source": [
        "df.info()"
      ],
      "execution_count": 2,
      "outputs": [
        {
          "output_type": "stream",
          "text": [
            "<class 'pandas.core.frame.DataFrame'>\n",
            "RangeIndex: 72 entries, 0 to 71\n",
            "Data columns (total 10 columns):\n",
            " #   Column      Non-Null Count  Dtype  \n",
            "---  ------      --------------  -----  \n",
            " 0   STATION_ID  72 non-null     int64  \n",
            " 1   STATION_NM  72 non-null     object \n",
            " 2   AREA        72 non-null     object \n",
            " 3   GU          72 non-null     object \n",
            " 4   DONG        72 non-null     object \n",
            " 5   ADDR1       72 non-null     object \n",
            " 6   ADDR2       0 non-null      float64\n",
            " 7   LOCKER      72 non-null     int64  \n",
            " 8   Y_POS       72 non-null     float64\n",
            " 9   X_POS       72 non-null     float64\n",
            "dtypes: float64(3), int64(2), object(5)\n",
            "memory usage: 5.8+ KB\n"
          ],
          "name": "stdout"
        }
      ]
    },
    {
      "cell_type": "markdown",
      "metadata": {
        "id": "b-yZ1gS9w9Xj"
      },
      "source": [
        "지도에 표시할 대여소 정보 추출"
      ]
    },
    {
      "cell_type": "code",
      "metadata": {
        "colab": {
          "base_uri": "https://localhost:8080/",
          "height": 111
        },
        "id": "ffu9p5Ugw270",
        "outputId": "6e5a0095-e437-4888-bae9-f5a20990fe73"
      },
      "source": [
        "df_route = df.loc[:,['STATION_NM', 'AREA', 'Y_POS','X_POS']]\n",
        "df_route.head(2)"
      ],
      "execution_count": 3,
      "outputs": [
        {
          "output_type": "execute_result",
          "data": {
            "text/html": [
              "<div>\n",
              "<style scoped>\n",
              "    .dataframe tbody tr th:only-of-type {\n",
              "        vertical-align: middle;\n",
              "    }\n",
              "\n",
              "    .dataframe tbody tr th {\n",
              "        vertical-align: top;\n",
              "    }\n",
              "\n",
              "    .dataframe thead th {\n",
              "        text-align: right;\n",
              "    }\n",
              "</style>\n",
              "<table border=\"1\" class=\"dataframe\">\n",
              "  <thead>\n",
              "    <tr style=\"text-align: right;\">\n",
              "      <th></th>\n",
              "      <th>STATION_NM</th>\n",
              "      <th>AREA</th>\n",
              "      <th>Y_POS</th>\n",
              "      <th>X_POS</th>\n",
              "    </tr>\n",
              "  </thead>\n",
              "  <tbody>\n",
              "    <tr>\n",
              "      <th>0</th>\n",
              "      <td>첫마을 1단지</td>\n",
              "      <td>1생활권</td>\n",
              "      <td>36.482114</td>\n",
              "      <td>127.259628</td>\n",
              "    </tr>\n",
              "    <tr>\n",
              "      <th>1</th>\n",
              "      <td>첫마을 3단지</td>\n",
              "      <td>1생활권</td>\n",
              "      <td>36.479850</td>\n",
              "      <td>127.260513</td>\n",
              "    </tr>\n",
              "  </tbody>\n",
              "</table>\n",
              "</div>"
            ],
            "text/plain": [
              "  STATION_NM  AREA      Y_POS       X_POS\n",
              "0    첫마을 1단지  1생활권  36.482114  127.259628\n",
              "1    첫마을 3단지  1생활권  36.479850  127.260513"
            ]
          },
          "metadata": {
            "tags": []
          },
          "execution_count": 3
        }
      ]
    },
    {
      "cell_type": "markdown",
      "metadata": {
        "id": "IgkImMX4x5Fn"
      },
      "source": [
        "자전거 대여소 Marker활용하여 지도 표출"
      ]
    },
    {
      "cell_type": "code",
      "metadata": {
        "id": "Lk7uXI3dxZCz"
      },
      "source": [
        "# 지도에 표시하기 위해 folium 라이브러리\n",
        "import folium\n",
        "\n",
        "map = folium.Map(location=[df_route['Y_POS'].mean(),\n",
        "                           df_route['X_POS'].mean()],\n",
        "                 zoom_start=11)\n",
        "\n",
        "for n in df_route.index :\n",
        "  folium.Marker([df_route.loc[n,'Y_POS'], # .loc[행,열]\n",
        "                 df_route.loc[n,'X_POS']],\n",
        "                popup = df_route.loc[n, 'STATION_NM']+' '+df_route.loc[n, 'AREA'],\n",
        "                icon = folium.Icon(color='green', icon = 'fa-bicycle', prefix='fa')).add_to(map)\n",
        "map"
      ],
      "execution_count": null,
      "outputs": []
    },
    {
      "cell_type": "code",
      "metadata": {
        "id": "Z0cSPJ1C1RRw"
      },
      "source": [
        "import folium\n",
        "\n",
        "map = folium.Map(location=[df_route['Y_POS'].mean(),\n",
        "                           df_route['X_POS'].mean()],\n",
        "                 zoom_start=11)\n",
        "\n",
        "for n in df_route.index :\n",
        "\n",
        "  if df_route.loc[n, 'AREA'] == '1생활권' :\n",
        "    folium.Marker([df_route.loc[n,'Y_POS'],\n",
        "                 df_route.loc[n,'X_POS']],\n",
        "                popup = df_route.loc[n, 'STATION_NM']+' '+df_route.loc[n, 'AREA'],\n",
        "                icon = folium.Icon(color='green', icon = 'fa-bicycle', prefix='fa')).add_to(map)\n",
        "  \n",
        "  elif df_route.loc[n, 'AREA'] == '2생활권' :\n",
        "    folium.Marker([df_route.loc[n,'Y_POS'],\n",
        "                 df_route.loc[n,'X_POS']],\n",
        "                popup = df_route.loc[n, 'STATION_NM']+' '+df_route.loc[n, 'AREA'],\n",
        "                icon = folium.Icon(color='orange', icon = 'fa-bicycle', prefix='fa')).add_to(map)\n",
        "\n",
        "  elif df_route.loc[n, 'AREA'] == '3생활권' :\n",
        "    folium.Marker([df_route.loc[n,'Y_POS'],\n",
        "                 df_route.loc[n,'X_POS']],\n",
        "                popup = df_route.loc[n, 'STATION_NM']+' '+df_route.loc[n, 'AREA'],\n",
        "                icon = folium.Icon(color='blue', icon = 'fa-bicycle', prefix='fa')).add_to(map)\n",
        "\n",
        "  elif df_route.loc[n, 'AREA'] == '4생활권' :\n",
        "    folium.Marker([df_route.loc[n,'Y_POS'],\n",
        "                 df_route.loc[n,'X_POS']],\n",
        "                popup = df_route.loc[n, 'STATION_NM']+' '+df_route.loc[n, 'AREA'],\n",
        "                icon = folium.Icon(color='purple', icon = 'fa-bicycle', prefix='fa')).add_to(map)\n",
        "  \n",
        "  else:\n",
        "    folium.Marker([df_route.loc[n,'Y_POS'],\n",
        "                 df_route.loc[n,'X_POS']],\n",
        "                popup = df_route.loc[n, 'STATION_NM']+' '+df_route.loc[n, 'AREA'],\n",
        "                icon = folium.Icon(color='pink', icon = 'fa-bicycle', prefix='fa')).add_to(map)\n",
        "\n",
        "map\n"
      ],
      "execution_count": null,
      "outputs": []
    },
    {
      "cell_type": "markdown",
      "metadata": {
        "id": "qTtXEcGk7mAl"
      },
      "source": [
        "코드를 좀 줄여서 나타내보기"
      ]
    },
    {
      "cell_type": "code",
      "metadata": {
        "id": "bb7uY08d7Ham"
      },
      "source": [
        "# folium 라이브러리\n",
        "import folium\n",
        "map = folium.Map(location=[df_route['Y_POS'].mean(), df_route['X_POS'].mean()],\n",
        "                           zoom_start = 11)\n",
        "c = ['green','blue','red','gray']\n",
        "for n in df_route.index:\n",
        "    for i in range(0,4):\n",
        "        if df_route.loc[n, 'AREA'][0] == str(i+1):\n",
        "            folium.Marker([df_route.loc[n, 'Y_POS'], df_route.loc[n, 'X_POS']], # 위도, 경도\n",
        "            popup = df_route.loc[n, 'STATION_NM'] + ' ' + df_route.loc[n, 'AREA'],\n",
        "            icon=folium.Icon(color=c[i], icon='fa-bicycle', prefix='fa')).add_to(map)\n",
        "            break  \n",
        "        else:\n",
        "            folium.Marker([df_route.loc[n, 'Y_POS'], df_route.loc[n, 'X_POS']], # 위도, 경도\n",
        "            popup = df_route.loc[n, 'STATION_NM'] + ' ' + df_route.loc[n, 'AREA'],\n",
        "            icon=folium.Icon(color='orange', icon='fa-bicycle', prefix='fa')).add_to(map)\n",
        "map"
      ],
      "execution_count": null,
      "outputs": []
    },
    {
      "cell_type": "markdown",
      "metadata": {
        "id": "cnxgKVhI8QRE"
      },
      "source": [
        "### 세종시 가로등 공공데이터 분석"
      ]
    },
    {
      "cell_type": "markdown",
      "metadata": {
        "id": "eCctznu28VUe"
      },
      "source": [
        "가로등 설치 공공데이터 준비하기"
      ]
    },
    {
      "cell_type": "code",
      "metadata": {
        "colab": {
          "base_uri": "https://localhost:8080/"
        },
        "id": "hjNX-r9d8Uvl",
        "outputId": "cd4b9153-ccd4-4c31-da9c-28a86a3d1554"
      },
      "source": [
        "lamp_df = pd.read_csv('/content/세종특별자치시_가로등정보_20190919..csv', encoding='cp949')\n",
        "lamp_df.info()"
      ],
      "execution_count": 20,
      "outputs": [
        {
          "output_type": "stream",
          "text": [
            "<class 'pandas.core.frame.DataFrame'>\n",
            "RangeIndex: 15460 entries, 0 to 15459\n",
            "Data columns (total 11 columns):\n",
            " #   Column    Non-Null Count  Dtype  \n",
            "---  ------    --------------  -----  \n",
            " 0   가로등위치명    15460 non-null  object \n",
            " 1   설치대수      15460 non-null  int64  \n",
            " 2   소재지도로명주소  2057 non-null   object \n",
            " 3   소재지지번주소   15460 non-null  object \n",
            " 4   위도        15460 non-null  float64\n",
            " 5   경도        15460 non-null  float64\n",
            " 6   설치년도      0 non-null      float64\n",
            " 7   설치형태      15459 non-null  object \n",
            " 8   관리기관전화번호  15460 non-null  object \n",
            " 9   관리기관명     15460 non-null  object \n",
            " 10  데이터기준일자   15460 non-null  object \n",
            "dtypes: float64(3), int64(1), object(7)\n",
            "memory usage: 1.3+ MB\n"
          ],
          "name": "stdout"
        }
      ]
    },
    {
      "cell_type": "markdown",
      "metadata": {
        "id": "u9Pj2g8F8lzt"
      },
      "source": [
        "지도에 표시할 가로등 정보 추출"
      ]
    },
    {
      "cell_type": "code",
      "metadata": {
        "colab": {
          "base_uri": "https://localhost:8080/",
          "height": 141
        },
        "id": "TqgvgDOP8koQ",
        "outputId": "e0b528ee-19d3-4d1c-b673-8f26feeb9b76"
      },
      "source": [
        "lamp_route = lamp_df.loc[:,['가로등위치명','위도','경도']]\n",
        "lamp_route.head(3)"
      ],
      "execution_count": 21,
      "outputs": [
        {
          "output_type": "execute_result",
          "data": {
            "text/html": [
              "<div>\n",
              "<style scoped>\n",
              "    .dataframe tbody tr th:only-of-type {\n",
              "        vertical-align: middle;\n",
              "    }\n",
              "\n",
              "    .dataframe tbody tr th {\n",
              "        vertical-align: top;\n",
              "    }\n",
              "\n",
              "    .dataframe thead th {\n",
              "        text-align: right;\n",
              "    }\n",
              "</style>\n",
              "<table border=\"1\" class=\"dataframe\">\n",
              "  <thead>\n",
              "    <tr style=\"text-align: right;\">\n",
              "      <th></th>\n",
              "      <th>가로등위치명</th>\n",
              "      <th>위도</th>\n",
              "      <th>경도</th>\n",
              "    </tr>\n",
              "  </thead>\n",
              "  <tbody>\n",
              "    <tr>\n",
              "      <th>0</th>\n",
              "      <td>전동면 노장리 609-9</td>\n",
              "      <td>36.652672</td>\n",
              "      <td>127.268525</td>\n",
              "    </tr>\n",
              "    <tr>\n",
              "      <th>1</th>\n",
              "      <td>세종특별자치시 대평동 574-2</td>\n",
              "      <td>36.469947</td>\n",
              "      <td>127.269149</td>\n",
              "    </tr>\n",
              "    <tr>\n",
              "      <th>2</th>\n",
              "      <td>전동면 노장리 609-9</td>\n",
              "      <td>36.654752</td>\n",
              "      <td>127.268148</td>\n",
              "    </tr>\n",
              "  </tbody>\n",
              "</table>\n",
              "</div>"
            ],
            "text/plain": [
              "              가로등위치명         위도          경도\n",
              "0      전동면 노장리 609-9  36.652672  127.268525\n",
              "1  세종특별자치시 대평동 574-2  36.469947  127.269149\n",
              "2      전동면 노장리 609-9  36.654752  127.268148"
            ]
          },
          "metadata": {
            "tags": []
          },
          "execution_count": 21
        }
      ]
    },
    {
      "cell_type": "markdown",
      "metadata": {
        "id": "o_KYAUv682MO"
      },
      "source": [
        "가로등 Marker 활용하여 지도 표출"
      ]
    },
    {
      "cell_type": "code",
      "metadata": {
        "colab": {
          "base_uri": "https://localhost:8080/"
        },
        "id": "X3b0Zy-4809h",
        "outputId": "4bfe49cb-8aad-4226-88cc-64fc33ddea60"
      },
      "source": [
        "lamp_route.info()"
      ],
      "execution_count": 22,
      "outputs": [
        {
          "output_type": "stream",
          "text": [
            "<class 'pandas.core.frame.DataFrame'>\n",
            "RangeIndex: 15460 entries, 0 to 15459\n",
            "Data columns (total 3 columns):\n",
            " #   Column  Non-Null Count  Dtype  \n",
            "---  ------  --------------  -----  \n",
            " 0   가로등위치명  15460 non-null  object \n",
            " 1   위도      15460 non-null  float64\n",
            " 2   경도      15460 non-null  float64\n",
            "dtypes: float64(2), object(1)\n",
            "memory usage: 362.5+ KB\n"
          ],
          "name": "stdout"
        }
      ]
    },
    {
      "cell_type": "code",
      "metadata": {
        "id": "rpKVOmfK8-Mg"
      },
      "source": [
        "# 데이터가 너무 크기 때문에 가로등 정보 100건만 사용하여 지도 표출\n",
        "\n",
        "for n in lamp_route.index[:100]:\n",
        "      folium.Marker([lamp_route.loc[n,'위도'],\n",
        "                     lamp_route.loc[n,'경도']],\n",
        "                    popup = lamp_route.loc[n, '가로등위치명'],\n",
        "                    icon = folium.Icon(icon = 'lightbulb-o', prefix='fa')).add_to(map)\n",
        "map"
      ],
      "execution_count": null,
      "outputs": []
    },
    {
      "cell_type": "markdown",
      "metadata": {
        "id": "--noL-tw-Dkd"
      },
      "source": [
        "세종시 CCTV 공공데이터 분석"
      ]
    },
    {
      "cell_type": "code",
      "metadata": {
        "colab": {
          "base_uri": "https://localhost:8080/"
        },
        "id": "Z-0rRThD-I1y",
        "outputId": "fd0f3f9a-8252-4a45-d78c-dea3d464aee1"
      },
      "source": [
        "cctv_df = pd.read_csv('/content/세종특별자치시_CCTV_20210101.csv')\n",
        "cctv_df.info()"
      ],
      "execution_count": 46,
      "outputs": [
        {
          "output_type": "stream",
          "text": [
            "<class 'pandas.core.frame.DataFrame'>\n",
            "RangeIndex: 1232 entries, 0 to 1231\n",
            "Data columns (total 12 columns):\n",
            " #   Column    Non-Null Count  Dtype  \n",
            "---  ------    --------------  -----  \n",
            " 0   관리기관명     1232 non-null   object \n",
            " 1   소재지도로명주소  413 non-null    object \n",
            " 2   소재지지번주소   1097 non-null   object \n",
            " 3   설치목적구분    1232 non-null   object \n",
            " 4   카메라대수     1232 non-null   int64  \n",
            " 5   카메라화소수    1232 non-null   object \n",
            " 6   촬영방면정보    1232 non-null   object \n",
            " 7   보관일수      1232 non-null   int64  \n",
            " 8   관리기관전화번호  1232 non-null   object \n",
            " 9   위도        1232 non-null   float64\n",
            " 10  경도        1232 non-null   float64\n",
            " 11  데이터기준일자   1232 non-null   object \n",
            "dtypes: float64(2), int64(2), object(8)\n",
            "memory usage: 115.6+ KB\n"
          ],
          "name": "stdout"
        }
      ]
    },
    {
      "cell_type": "code",
      "metadata": {
        "colab": {
          "base_uri": "https://localhost:8080/",
          "height": 162
        },
        "id": "fHW-9WOI-gQg",
        "outputId": "8e951bbd-a777-4cfc-d6da-7587cca23c98"
      },
      "source": [
        "cctv_df.head(2)"
      ],
      "execution_count": 47,
      "outputs": [
        {
          "output_type": "execute_result",
          "data": {
            "text/html": [
              "<div>\n",
              "<style scoped>\n",
              "    .dataframe tbody tr th:only-of-type {\n",
              "        vertical-align: middle;\n",
              "    }\n",
              "\n",
              "    .dataframe tbody tr th {\n",
              "        vertical-align: top;\n",
              "    }\n",
              "\n",
              "    .dataframe thead th {\n",
              "        text-align: right;\n",
              "    }\n",
              "</style>\n",
              "<table border=\"1\" class=\"dataframe\">\n",
              "  <thead>\n",
              "    <tr style=\"text-align: right;\">\n",
              "      <th></th>\n",
              "      <th>관리기관명</th>\n",
              "      <th>소재지도로명주소</th>\n",
              "      <th>소재지지번주소</th>\n",
              "      <th>설치목적구분</th>\n",
              "      <th>카메라대수</th>\n",
              "      <th>카메라화소수</th>\n",
              "      <th>촬영방면정보</th>\n",
              "      <th>보관일수</th>\n",
              "      <th>관리기관전화번호</th>\n",
              "      <th>위도</th>\n",
              "      <th>경도</th>\n",
              "      <th>데이터기준일자</th>\n",
              "    </tr>\n",
              "  </thead>\n",
              "  <tbody>\n",
              "    <tr>\n",
              "      <th>0</th>\n",
              "      <td>세종특별자치시</td>\n",
              "      <td>세종특별자치시 소정면 소정안골1길 89</td>\n",
              "      <td>세종특별자치시 소정면 소정리 551-4</td>\n",
              "      <td>다목적</td>\n",
              "      <td>2</td>\n",
              "      <td>200,399</td>\n",
              "      <td>소정3리 마을회관 앞</td>\n",
              "      <td>30</td>\n",
              "      <td>044-300-2454</td>\n",
              "      <td>36.711430</td>\n",
              "      <td>127.139939</td>\n",
              "      <td>2021-01-01</td>\n",
              "    </tr>\n",
              "    <tr>\n",
              "      <th>1</th>\n",
              "      <td>세종특별자치시</td>\n",
              "      <td>NaN</td>\n",
              "      <td>세종특별자치시 소정면 소정리 495일원</td>\n",
              "      <td>다목적</td>\n",
              "      <td>3</td>\n",
              "      <td>200,200,200</td>\n",
              "      <td>소정리 운당교차로,남풍세IC교차로사이세종방면</td>\n",
              "      <td>30</td>\n",
              "      <td>044-300-2454</td>\n",
              "      <td>36.713989</td>\n",
              "      <td>127.142217</td>\n",
              "      <td>2021-01-01</td>\n",
              "    </tr>\n",
              "  </tbody>\n",
              "</table>\n",
              "</div>"
            ],
            "text/plain": [
              "     관리기관명               소재지도로명주소  ...          경도     데이터기준일자\n",
              "0  세종특별자치시  세종특별자치시 소정면 소정안골1길 89  ...  127.139939  2021-01-01\n",
              "1  세종특별자치시                    NaN  ...  127.142217  2021-01-01\n",
              "\n",
              "[2 rows x 12 columns]"
            ]
          },
          "metadata": {
            "tags": []
          },
          "execution_count": 47
        }
      ]
    },
    {
      "cell_type": "code",
      "metadata": {
        "colab": {
          "base_uri": "https://localhost:8080/",
          "height": 141
        },
        "id": "_KMaQFh4_cQw",
        "outputId": "1436dd60-acf1-45be-dc52-e4bae09c90a1"
      },
      "source": [
        "cctv_route = cctv_df.loc[:,['카메라화소수','위도','경도']]\n",
        "cctv_route.head(3)"
      ],
      "execution_count": 48,
      "outputs": [
        {
          "output_type": "execute_result",
          "data": {
            "text/html": [
              "<div>\n",
              "<style scoped>\n",
              "    .dataframe tbody tr th:only-of-type {\n",
              "        vertical-align: middle;\n",
              "    }\n",
              "\n",
              "    .dataframe tbody tr th {\n",
              "        vertical-align: top;\n",
              "    }\n",
              "\n",
              "    .dataframe thead th {\n",
              "        text-align: right;\n",
              "    }\n",
              "</style>\n",
              "<table border=\"1\" class=\"dataframe\">\n",
              "  <thead>\n",
              "    <tr style=\"text-align: right;\">\n",
              "      <th></th>\n",
              "      <th>카메라화소수</th>\n",
              "      <th>위도</th>\n",
              "      <th>경도</th>\n",
              "    </tr>\n",
              "  </thead>\n",
              "  <tbody>\n",
              "    <tr>\n",
              "      <th>0</th>\n",
              "      <td>200,399</td>\n",
              "      <td>36.711430</td>\n",
              "      <td>127.139939</td>\n",
              "    </tr>\n",
              "    <tr>\n",
              "      <th>1</th>\n",
              "      <td>200,200,200</td>\n",
              "      <td>36.713989</td>\n",
              "      <td>127.142217</td>\n",
              "    </tr>\n",
              "    <tr>\n",
              "      <th>2</th>\n",
              "      <td>200,200,200,200</td>\n",
              "      <td>36.713731</td>\n",
              "      <td>127.142821</td>\n",
              "    </tr>\n",
              "  </tbody>\n",
              "</table>\n",
              "</div>"
            ],
            "text/plain": [
              "            카메라화소수         위도          경도\n",
              "0          200,399  36.711430  127.139939\n",
              "1      200,200,200  36.713989  127.142217\n",
              "2  200,200,200,200  36.713731  127.142821"
            ]
          },
          "metadata": {
            "tags": []
          },
          "execution_count": 48
        }
      ]
    },
    {
      "cell_type": "code",
      "metadata": {
        "id": "Kz4GonqeAWRR"
      },
      "source": [
        "for n in cctv_route.index[:100]:\n",
        "      folium.Marker([cctv_route.loc[n,'위도'],\n",
        "                     cctv_route.loc[n,'경도']],\n",
        "                    popup = cctv_route.loc[n, '카메라화소수'],\n",
        "                    icon = folium.Icon(color='gray', icon = 'video-camera', prefix='fa')).add_to(map)\n",
        "map"
      ],
      "execution_count": null,
      "outputs": []
    },
    {
      "cell_type": "code",
      "metadata": {
        "id": "aaCKGzO1CdL7"
      },
      "source": [
        "import folium\n",
        "map2 = folium.Map(location=[cctv_route['위도'].mean(), cctv_route['경도'].mean()],\n",
        "                           zoom_start = 12)\n",
        "\n",
        "for n in cctv_route.index[:]:\n",
        "      folium.Marker([cctv_route.loc[n,'위도'],\n",
        "                     cctv_route.loc[n,'경도']],\n",
        "                    popup = cctv_route.loc[n, '카메라화소수'],\n",
        "                    icon = folium.Icon(color='gray', icon = 'video-camera', prefix='fa')).add_to(map2)\n",
        "map2"
      ],
      "execution_count": null,
      "outputs": []
    }
  ]
}